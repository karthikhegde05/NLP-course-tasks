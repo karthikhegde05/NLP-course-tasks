{
 "cells": [
  {
   "cell_type": "markdown",
   "metadata": {
    "id": "X0LqaWzHfukL"
   },
   "source": [
    "# Character Based Named Entity Recognition Models"
   ]
  },
  {
   "cell_type": "markdown",
   "metadata": {
    "id": "iPqV37eCYCfv"
   },
   "source": [
    "Done by Karthik Hegde (IMT2018509)"
   ]
  },
  {
   "cell_type": "markdown",
   "metadata": {
    "id": "CGjZeTwahK0v"
   },
   "source": [
    "## BIO based character RNN model"
   ]
  },
  {
   "cell_type": "code",
   "execution_count": 107,
   "metadata": {
    "id": "dv2qX_TlhRXc"
   },
   "outputs": [],
   "source": [
    "import tensorflow as tf\n",
    "from tensorflow import keras\n",
    "import numpy as np\n",
    "import pandas as pd\n",
    "import re"
   ]
  },
  {
   "cell_type": "code",
   "execution_count": 108,
   "metadata": {
    "colab": {
     "base_uri": "https://localhost:8080/"
    },
    "id": "v3aeE1ZWhTwY",
    "outputId": "fc2383a8-aff5-4c76-e1e4-7fae035a882b"
   },
   "outputs": [
    {
     "name": "stdout",
     "output_type": "stream",
     "text": [
      "--2021-02-08 15:02:38--  https://raw.githubusercontent.com/SilentFlame/Named-Entity-Recognition/master/Twitterdata/annotatedData.csv\n",
      "Resolving raw.githubusercontent.com (raw.githubusercontent.com)... 151.101.0.133, 151.101.64.133, 151.101.128.133, ...\n",
      "Connecting to raw.githubusercontent.com (raw.githubusercontent.com)|151.101.0.133|:443... connected.\n",
      "HTTP request sent, awaiting response... 200 OK\n",
      "Length: 1591322 (1.5M) [text/plain]\n",
      "Saving to: ‘annotatedData.csv.1’\n",
      "\n",
      "annotatedData.csv.1 100%[===================>]   1.52M  --.-KB/s    in 0.07s   \n",
      "\n",
      "2021-02-08 15:02:39 (21.0 MB/s) - ‘annotatedData.csv.1’ saved [1591322/1591322]\n",
      "\n"
     ]
    }
   ],
   "source": [
    "!wget --no-check-certificate --content-disposition https://raw.githubusercontent.com/SilentFlame/Named-Entity-Recognition/master/Twitterdata/annotatedData.csv"
   ]
  },
  {
   "cell_type": "code",
   "execution_count": 109,
   "metadata": {
    "id": "eoBFQJcThWd3"
   },
   "outputs": [],
   "source": [
    "annotatedData = pd.read_csv('/content/annotatedData.csv')"
   ]
  },
  {
   "cell_type": "code",
   "execution_count": 110,
   "metadata": {
    "colab": {
     "base_uri": "https://localhost:8080/",
     "height": 419
    },
    "id": "HmHW4RaMheUD",
    "outputId": "20c0b05e-78a8-4e4a-bd0a-4ab9ddc8db54"
   },
   "outputs": [
    {
     "data": {
      "text/html": [
       "<div>\n",
       "<style scoped>\n",
       "    .dataframe tbody tr th:only-of-type {\n",
       "        vertical-align: middle;\n",
       "    }\n",
       "\n",
       "    .dataframe tbody tr th {\n",
       "        vertical-align: top;\n",
       "    }\n",
       "\n",
       "    .dataframe thead th {\n",
       "        text-align: right;\n",
       "    }\n",
       "</style>\n",
       "<table border=\"1\" class=\"dataframe\">\n",
       "  <thead>\n",
       "    <tr style=\"text-align: right;\">\n",
       "      <th></th>\n",
       "      <th>Sent</th>\n",
       "      <th>Word</th>\n",
       "      <th>Tag</th>\n",
       "    </tr>\n",
       "  </thead>\n",
       "  <tbody>\n",
       "    <tr>\n",
       "      <th>0</th>\n",
       "      <td>sent: 0</td>\n",
       "      <td>Bahubali</td>\n",
       "      <td>B-Per</td>\n",
       "    </tr>\n",
       "    <tr>\n",
       "      <th>1</th>\n",
       "      <td>sent: 0</td>\n",
       "      <td>2</td>\n",
       "      <td>Other</td>\n",
       "    </tr>\n",
       "    <tr>\n",
       "      <th>2</th>\n",
       "      <td>sent: 0</td>\n",
       "      <td>ke</td>\n",
       "      <td>Other</td>\n",
       "    </tr>\n",
       "    <tr>\n",
       "      <th>3</th>\n",
       "      <td>sent: 0</td>\n",
       "      <td>liye</td>\n",
       "      <td>Other</td>\n",
       "    </tr>\n",
       "    <tr>\n",
       "      <th>4</th>\n",
       "      <td>sent: 0</td>\n",
       "      <td>line</td>\n",
       "      <td>Other</td>\n",
       "    </tr>\n",
       "    <tr>\n",
       "      <th>...</th>\n",
       "      <td>...</td>\n",
       "      <td>...</td>\n",
       "      <td>...</td>\n",
       "    </tr>\n",
       "    <tr>\n",
       "      <th>72138</th>\n",
       "      <td>sent: 3637</td>\n",
       "      <td>udhr</td>\n",
       "      <td>Other</td>\n",
       "    </tr>\n",
       "    <tr>\n",
       "      <th>72139</th>\n",
       "      <td>sent: 3637</td>\n",
       "      <td>kar</td>\n",
       "      <td>Other</td>\n",
       "    </tr>\n",
       "    <tr>\n",
       "      <th>72140</th>\n",
       "      <td>sent: 3637</td>\n",
       "      <td>gya</td>\n",
       "      <td>Other</td>\n",
       "    </tr>\n",
       "    <tr>\n",
       "      <th>72141</th>\n",
       "      <td>sent: 3637</td>\n",
       "      <td>#pnb</td>\n",
       "      <td>B-Org</td>\n",
       "    </tr>\n",
       "    <tr>\n",
       "      <th>72142</th>\n",
       "      <td>sent: 3637</td>\n",
       "      <td>#fraud</td>\n",
       "      <td>Other</td>\n",
       "    </tr>\n",
       "  </tbody>\n",
       "</table>\n",
       "<p>72143 rows × 3 columns</p>\n",
       "</div>"
      ],
      "text/plain": [
       "             Sent      Word    Tag\n",
       "0         sent: 0  Bahubali  B-Per\n",
       "1         sent: 0         2  Other\n",
       "2         sent: 0        ke  Other\n",
       "3         sent: 0      liye  Other\n",
       "4         sent: 0      line  Other\n",
       "...           ...       ...    ...\n",
       "72138  sent: 3637      udhr  Other\n",
       "72139  sent: 3637       kar  Other\n",
       "72140  sent: 3637       gya  Other\n",
       "72141  sent: 3637      #pnb  B-Org\n",
       "72142  sent: 3637    #fraud  Other\n",
       "\n",
       "[72143 rows x 3 columns]"
      ]
     },
     "execution_count": 110,
     "metadata": {
      "tags": []
     },
     "output_type": "execute_result"
    }
   ],
   "source": [
    "annotatedData"
   ]
  },
  {
   "cell_type": "markdown",
   "metadata": {
    "id": "rPDNpGadlR94"
   },
   "source": [
    "Dropping the rows containing missing values"
   ]
  },
  {
   "cell_type": "code",
   "execution_count": 111,
   "metadata": {
    "id": "ImAsflFvm9ic"
   },
   "outputs": [],
   "source": [
    "annotatedData = annotatedData.dropna(axis=0)"
   ]
  },
  {
   "cell_type": "code",
   "execution_count": 112,
   "metadata": {
    "colab": {
     "base_uri": "https://localhost:8080/"
    },
    "id": "Wpx6MgS-ukbN",
    "outputId": "302e13a7-23d1-435c-9634-fe8950b09db6"
   },
   "outputs": [
    {
     "data": {
      "text/plain": [
       "(68504, 3)"
      ]
     },
     "execution_count": 112,
     "metadata": {
      "tags": []
     },
     "output_type": "execute_result"
    }
   ],
   "source": [
    "annotatedData.shape"
   ]
  },
  {
   "cell_type": "markdown",
   "metadata": {
    "id": "T1YfxAvbKWCC"
   },
   "source": [
    "Splitting the words into characters and tagging them into 'B' (border), 'I' (Inside), 'O' (outside)"
   ]
  },
  {
   "cell_type": "code",
   "execution_count": 113,
   "metadata": {
    "id": "nxZ_pVSChi0h"
   },
   "outputs": [],
   "source": [
    "lst_ne = ['B-Per', 'B-Org', 'I-Org', 'B-Loc', 'I-Per', 'I-Loc']\n",
    "\n",
    "sent_idx = []\n",
    "word_idx = []\n",
    "character = []\n",
    "tag = []\n",
    "\n",
    "idx = 0\n",
    "\n",
    "# Tagging each character of the word as 'B', 'I', or 'O'\n",
    "def Tag_char(row):\n",
    "  global idx\n",
    "  idx += 1\n",
    "\n",
    "  sentence = str(row['Sent'])\n",
    "  sentence_num = sentence[6:]\n",
    "  word_string = str(row['Word'])\n",
    "\n",
    "  if row['Tag'] in lst_ne:\n",
    "    for ind, char in enumerate(word_string):\n",
    "      sent_idx.append(sentence_num)\n",
    "      word_idx.append(idx)\n",
    "      if (ind==0 or ind==len(word_string)-1):\n",
    "        character.append(char)\n",
    "        tag.append('B')\n",
    "      else:\n",
    "        character.append(char)\n",
    "        tag.append('I')\n",
    "  else:\n",
    "    for ind, char in enumerate(word_string):\n",
    "      sent_idx.append(sentence_num)\n",
    "      word_idx.append(idx)\n",
    "      character.append(char)\n",
    "      tag.append('O')\n",
    "\n",
    "annotatedData.apply(Tag_char, axis=1)\n",
    "\n",
    "Data = pd.DataFrame({'Sentence_index':sent_idx, 'Word_index': word_idx, 'Character': character, 'Tag': tag})"
   ]
  },
  {
   "cell_type": "code",
   "execution_count": 114,
   "metadata": {
    "colab": {
     "base_uri": "https://localhost:8080/",
     "height": 419
    },
    "id": "pjAXTD1omnpF",
    "outputId": "ede75de9-199e-4edd-cc3d-b52ba4439124"
   },
   "outputs": [
    {
     "data": {
      "text/html": [
       "<div>\n",
       "<style scoped>\n",
       "    .dataframe tbody tr th:only-of-type {\n",
       "        vertical-align: middle;\n",
       "    }\n",
       "\n",
       "    .dataframe tbody tr th {\n",
       "        vertical-align: top;\n",
       "    }\n",
       "\n",
       "    .dataframe thead th {\n",
       "        text-align: right;\n",
       "    }\n",
       "</style>\n",
       "<table border=\"1\" class=\"dataframe\">\n",
       "  <thead>\n",
       "    <tr style=\"text-align: right;\">\n",
       "      <th></th>\n",
       "      <th>Sentence_index</th>\n",
       "      <th>Word_index</th>\n",
       "      <th>Character</th>\n",
       "      <th>Tag</th>\n",
       "    </tr>\n",
       "  </thead>\n",
       "  <tbody>\n",
       "    <tr>\n",
       "      <th>0</th>\n",
       "      <td>0</td>\n",
       "      <td>1</td>\n",
       "      <td>B</td>\n",
       "      <td>B</td>\n",
       "    </tr>\n",
       "    <tr>\n",
       "      <th>1</th>\n",
       "      <td>0</td>\n",
       "      <td>1</td>\n",
       "      <td>a</td>\n",
       "      <td>I</td>\n",
       "    </tr>\n",
       "    <tr>\n",
       "      <th>2</th>\n",
       "      <td>0</td>\n",
       "      <td>1</td>\n",
       "      <td>h</td>\n",
       "      <td>I</td>\n",
       "    </tr>\n",
       "    <tr>\n",
       "      <th>3</th>\n",
       "      <td>0</td>\n",
       "      <td>1</td>\n",
       "      <td>u</td>\n",
       "      <td>I</td>\n",
       "    </tr>\n",
       "    <tr>\n",
       "      <th>4</th>\n",
       "      <td>0</td>\n",
       "      <td>1</td>\n",
       "      <td>b</td>\n",
       "      <td>I</td>\n",
       "    </tr>\n",
       "    <tr>\n",
       "      <th>...</th>\n",
       "      <td>...</td>\n",
       "      <td>...</td>\n",
       "      <td>...</td>\n",
       "      <td>...</td>\n",
       "    </tr>\n",
       "    <tr>\n",
       "      <th>294588</th>\n",
       "      <td>3637</td>\n",
       "      <td>68504</td>\n",
       "      <td>f</td>\n",
       "      <td>O</td>\n",
       "    </tr>\n",
       "    <tr>\n",
       "      <th>294589</th>\n",
       "      <td>3637</td>\n",
       "      <td>68504</td>\n",
       "      <td>r</td>\n",
       "      <td>O</td>\n",
       "    </tr>\n",
       "    <tr>\n",
       "      <th>294590</th>\n",
       "      <td>3637</td>\n",
       "      <td>68504</td>\n",
       "      <td>a</td>\n",
       "      <td>O</td>\n",
       "    </tr>\n",
       "    <tr>\n",
       "      <th>294591</th>\n",
       "      <td>3637</td>\n",
       "      <td>68504</td>\n",
       "      <td>u</td>\n",
       "      <td>O</td>\n",
       "    </tr>\n",
       "    <tr>\n",
       "      <th>294592</th>\n",
       "      <td>3637</td>\n",
       "      <td>68504</td>\n",
       "      <td>d</td>\n",
       "      <td>O</td>\n",
       "    </tr>\n",
       "  </tbody>\n",
       "</table>\n",
       "<p>294593 rows × 4 columns</p>\n",
       "</div>"
      ],
      "text/plain": [
       "       Sentence_index  Word_index Character Tag\n",
       "0                   0           1         B   B\n",
       "1                   0           1         a   I\n",
       "2                   0           1         h   I\n",
       "3                   0           1         u   I\n",
       "4                   0           1         b   I\n",
       "...               ...         ...       ...  ..\n",
       "294588           3637       68504         f   O\n",
       "294589           3637       68504         r   O\n",
       "294590           3637       68504         a   O\n",
       "294591           3637       68504         u   O\n",
       "294592           3637       68504         d   O\n",
       "\n",
       "[294593 rows x 4 columns]"
      ]
     },
     "execution_count": 114,
     "metadata": {
      "tags": []
     },
     "output_type": "execute_result"
    }
   ],
   "source": [
    "Data"
   ]
  },
  {
   "cell_type": "markdown",
   "metadata": {
    "id": "4ixIlv9wKuRt"
   },
   "source": [
    "Tokenizing the characters and tags\n",
    "\n",
    "Each unique character and unique tag in the data is given an index number. There are only 3 tags ('B', 'I', 'O')"
   ]
  },
  {
   "cell_type": "code",
   "execution_count": 115,
   "metadata": {
    "id": "9cfkbDo2pLDx"
   },
   "outputs": [],
   "source": [
    "# Tokenizing the characters and Tags\n",
    "\n",
    "def get_dict_map(data, char_or_tag):\n",
    "  vocab = list(set(data[char_or_tag].to_list())) # converting to set to avoid duplicates\n",
    "  token_to_index = {token:index for index, token in enumerate(vocab)} \n",
    "  index_to_token = {index:token for index, token in enumerate(vocab)} \n",
    "  return token_to_index, index_to_token\n",
    "\n",
    "char_to_index, index_to_char = get_dict_map(Data, 'Character')\n",
    "tag_to_index, index_to_tag = get_dict_map(Data, 'Tag')\n",
    "\n",
    "# adding character_index, and tag_index to the Data\n",
    "Data['Character_index'] = Data['Character'].map(char_to_index)\n",
    "Data['Tag_index'] = Data['Tag'].map(tag_to_index)"
   ]
  },
  {
   "cell_type": "code",
   "execution_count": 116,
   "metadata": {
    "colab": {
     "base_uri": "https://localhost:8080/"
    },
    "id": "oJByLPT8rw7B",
    "outputId": "dae0518a-9bb3-4b02-e144-bb56df9e96fe"
   },
   "outputs": [
    {
     "data": {
      "text/plain": [
       "108"
      ]
     },
     "execution_count": 116,
     "metadata": {
      "tags": []
     },
     "output_type": "execute_result"
    }
   ],
   "source": [
    "# unique number of charaters\n",
    "Data['Character_index'].nunique()"
   ]
  },
  {
   "cell_type": "code",
   "execution_count": 117,
   "metadata": {
    "colab": {
     "base_uri": "https://localhost:8080/",
     "height": 419
    },
    "id": "OI1MaH2_r2_e",
    "outputId": "28926079-d5b3-4555-f56d-d05fd1c0db4a"
   },
   "outputs": [
    {
     "data": {
      "text/html": [
       "<div>\n",
       "<style scoped>\n",
       "    .dataframe tbody tr th:only-of-type {\n",
       "        vertical-align: middle;\n",
       "    }\n",
       "\n",
       "    .dataframe tbody tr th {\n",
       "        vertical-align: top;\n",
       "    }\n",
       "\n",
       "    .dataframe thead th {\n",
       "        text-align: right;\n",
       "    }\n",
       "</style>\n",
       "<table border=\"1\" class=\"dataframe\">\n",
       "  <thead>\n",
       "    <tr style=\"text-align: right;\">\n",
       "      <th></th>\n",
       "      <th>Sentence_index</th>\n",
       "      <th>Word_index</th>\n",
       "      <th>Character</th>\n",
       "      <th>Tag</th>\n",
       "      <th>Character_index</th>\n",
       "      <th>Tag_index</th>\n",
       "    </tr>\n",
       "  </thead>\n",
       "  <tbody>\n",
       "    <tr>\n",
       "      <th>0</th>\n",
       "      <td>0</td>\n",
       "      <td>1</td>\n",
       "      <td>B</td>\n",
       "      <td>B</td>\n",
       "      <td>58</td>\n",
       "      <td>2</td>\n",
       "    </tr>\n",
       "    <tr>\n",
       "      <th>1</th>\n",
       "      <td>0</td>\n",
       "      <td>1</td>\n",
       "      <td>a</td>\n",
       "      <td>I</td>\n",
       "      <td>79</td>\n",
       "      <td>1</td>\n",
       "    </tr>\n",
       "    <tr>\n",
       "      <th>2</th>\n",
       "      <td>0</td>\n",
       "      <td>1</td>\n",
       "      <td>h</td>\n",
       "      <td>I</td>\n",
       "      <td>47</td>\n",
       "      <td>1</td>\n",
       "    </tr>\n",
       "    <tr>\n",
       "      <th>3</th>\n",
       "      <td>0</td>\n",
       "      <td>1</td>\n",
       "      <td>u</td>\n",
       "      <td>I</td>\n",
       "      <td>65</td>\n",
       "      <td>1</td>\n",
       "    </tr>\n",
       "    <tr>\n",
       "      <th>4</th>\n",
       "      <td>0</td>\n",
       "      <td>1</td>\n",
       "      <td>b</td>\n",
       "      <td>I</td>\n",
       "      <td>2</td>\n",
       "      <td>1</td>\n",
       "    </tr>\n",
       "    <tr>\n",
       "      <th>...</th>\n",
       "      <td>...</td>\n",
       "      <td>...</td>\n",
       "      <td>...</td>\n",
       "      <td>...</td>\n",
       "      <td>...</td>\n",
       "      <td>...</td>\n",
       "    </tr>\n",
       "    <tr>\n",
       "      <th>294588</th>\n",
       "      <td>3637</td>\n",
       "      <td>68504</td>\n",
       "      <td>f</td>\n",
       "      <td>O</td>\n",
       "      <td>83</td>\n",
       "      <td>0</td>\n",
       "    </tr>\n",
       "    <tr>\n",
       "      <th>294589</th>\n",
       "      <td>3637</td>\n",
       "      <td>68504</td>\n",
       "      <td>r</td>\n",
       "      <td>O</td>\n",
       "      <td>67</td>\n",
       "      <td>0</td>\n",
       "    </tr>\n",
       "    <tr>\n",
       "      <th>294590</th>\n",
       "      <td>3637</td>\n",
       "      <td>68504</td>\n",
       "      <td>a</td>\n",
       "      <td>O</td>\n",
       "      <td>79</td>\n",
       "      <td>0</td>\n",
       "    </tr>\n",
       "    <tr>\n",
       "      <th>294591</th>\n",
       "      <td>3637</td>\n",
       "      <td>68504</td>\n",
       "      <td>u</td>\n",
       "      <td>O</td>\n",
       "      <td>65</td>\n",
       "      <td>0</td>\n",
       "    </tr>\n",
       "    <tr>\n",
       "      <th>294592</th>\n",
       "      <td>3637</td>\n",
       "      <td>68504</td>\n",
       "      <td>d</td>\n",
       "      <td>O</td>\n",
       "      <td>66</td>\n",
       "      <td>0</td>\n",
       "    </tr>\n",
       "  </tbody>\n",
       "</table>\n",
       "<p>294593 rows × 6 columns</p>\n",
       "</div>"
      ],
      "text/plain": [
       "       Sentence_index  Word_index Character Tag  Character_index  Tag_index\n",
       "0                   0           1         B   B               58          2\n",
       "1                   0           1         a   I               79          1\n",
       "2                   0           1         h   I               47          1\n",
       "3                   0           1         u   I               65          1\n",
       "4                   0           1         b   I                2          1\n",
       "...               ...         ...       ...  ..              ...        ...\n",
       "294588           3637       68504         f   O               83          0\n",
       "294589           3637       68504         r   O               67          0\n",
       "294590           3637       68504         a   O               79          0\n",
       "294591           3637       68504         u   O               65          0\n",
       "294592           3637       68504         d   O               66          0\n",
       "\n",
       "[294593 rows x 6 columns]"
      ]
     },
     "execution_count": 117,
     "metadata": {
      "tags": []
     },
     "output_type": "execute_result"
    }
   ],
   "source": [
    "Data"
   ]
  },
  {
   "cell_type": "markdown",
   "metadata": {
    "id": "LsiNrZXsK2ax"
   },
   "source": [
    "Grouping by the sentences.\n",
    "\n",
    "In this case, the model is trained over sentences with each character of the sentence as the input unit. The model predicts tags for each character in the sentence. Finally the words of the sentence with BI...IB as the label are classified as Named Entities. \n",
    "\n",
    "\n"
   ]
  },
  {
   "cell_type": "code",
   "execution_count": 118,
   "metadata": {
    "id": "FKVJtfVwtPtj"
   },
   "outputs": [],
   "source": [
    "# Group by the sentences\n",
    "Data_group = Data.groupby('Sentence_index')[['Character', 'Tag', 'Character_index', 'Tag_index']].agg(list)"
   ]
  },
  {
   "cell_type": "code",
   "execution_count": 119,
   "metadata": {
    "colab": {
     "base_uri": "https://localhost:8080/",
     "height": 620
    },
    "id": "v_5Q9EjzuYnR",
    "outputId": "d9e32492-7db8-4072-f57e-924e08b092bf"
   },
   "outputs": [
    {
     "data": {
      "text/html": [
       "<div>\n",
       "<style scoped>\n",
       "    .dataframe tbody tr th:only-of-type {\n",
       "        vertical-align: middle;\n",
       "    }\n",
       "\n",
       "    .dataframe tbody tr th {\n",
       "        vertical-align: top;\n",
       "    }\n",
       "\n",
       "    .dataframe thead th {\n",
       "        text-align: right;\n",
       "    }\n",
       "</style>\n",
       "<table border=\"1\" class=\"dataframe\">\n",
       "  <thead>\n",
       "    <tr style=\"text-align: right;\">\n",
       "      <th></th>\n",
       "      <th>Character</th>\n",
       "      <th>Tag</th>\n",
       "      <th>Character_index</th>\n",
       "      <th>Tag_index</th>\n",
       "    </tr>\n",
       "    <tr>\n",
       "      <th>Sentence_index</th>\n",
       "      <th></th>\n",
       "      <th></th>\n",
       "      <th></th>\n",
       "      <th></th>\n",
       "    </tr>\n",
       "  </thead>\n",
       "  <tbody>\n",
       "    <tr>\n",
       "      <th>0</th>\n",
       "      <td>[B, a, h, u, b, a, l, i, 2, k, e, l, i, y, e, ...</td>\n",
       "      <td>[B, I, I, I, I, I, I, B, O, O, O, O, O, O, O, ...</td>\n",
       "      <td>[58, 79, 47, 65, 2, 79, 4, 88, 28, 20, 59, 4, ...</td>\n",
       "      <td>[2, 1, 1, 1, 1, 1, 1, 2, 0, 0, 0, 0, 0, 0, 0, ...</td>\n",
       "    </tr>\n",
       "    <tr>\n",
       "      <th>1</th>\n",
       "      <td>[a, g, a, r, #, n, o, t, e, b, a, n, d, i, k, ...</td>\n",
       "      <td>[O, O, O, O, O, O, O, O, O, O, O, O, O, O, O, ...</td>\n",
       "      <td>[79, 51, 79, 67, 32, 76, 44, 6, 59, 2, 79, 76,...</td>\n",
       "      <td>[0, 0, 0, 0, 0, 0, 0, 0, 0, 0, 0, 0, 0, 0, 0, ...</td>\n",
       "    </tr>\n",
       "    <tr>\n",
       "      <th>10</th>\n",
       "      <td>[#, n, o, t, e, b, a, n, d, i, k, e, b, a, a, ...</td>\n",
       "      <td>[O, O, O, O, O, O, O, O, O, O, O, O, O, O, O, ...</td>\n",
       "      <td>[32, 76, 44, 6, 59, 2, 79, 76, 66, 88, 20, 59,...</td>\n",
       "      <td>[0, 0, 0, 0, 0, 0, 0, 0, 0, 0, 0, 0, 0, 0, 0, ...</td>\n",
       "    </tr>\n",
       "    <tr>\n",
       "      <th>100</th>\n",
       "      <td>[M, a, s, t, e, r, s, t, r, o, k, e, t, o, M, ...</td>\n",
       "      <td>[O, O, O, O, O, O, O, O, O, O, O, O, O, O, B, ...</td>\n",
       "      <td>[29, 79, 50, 6, 59, 67, 50, 6, 67, 44, 20, 59,...</td>\n",
       "      <td>[0, 0, 0, 0, 0, 0, 0, 0, 0, 0, 0, 0, 0, 0, 2, ...</td>\n",
       "    </tr>\n",
       "    <tr>\n",
       "      <th>1000</th>\n",
       "      <td>[J, i, n, l, o, g, o, n, k, o, d, e, s, h, k, ...</td>\n",
       "      <td>[O, O, O, O, O, O, O, O, O, O, B, I, I, B, O, ...</td>\n",
       "      <td>[53, 88, 76, 4, 44, 51, 44, 76, 20, 44, 66, 59...</td>\n",
       "      <td>[0, 0, 0, 0, 0, 0, 0, 0, 0, 0, 2, 1, 1, 2, 0, ...</td>\n",
       "    </tr>\n",
       "    <tr>\n",
       "      <th>...</th>\n",
       "      <td>...</td>\n",
       "      <td>...</td>\n",
       "      <td>...</td>\n",
       "      <td>...</td>\n",
       "    </tr>\n",
       "    <tr>\n",
       "      <th>995</th>\n",
       "      <td>[#, G, S, T, m, e, s, u, d, h, a, a, r, h, a, ...</td>\n",
       "      <td>[O, O, O, O, O, O, O, O, O, O, O, O, O, O, O, ...</td>\n",
       "      <td>[32, 105, 73, 94, 106, 59, 50, 65, 66, 47, 79,...</td>\n",
       "      <td>[0, 0, 0, 0, 0, 0, 0, 0, 0, 0, 0, 0, 0, 0, 0, ...</td>\n",
       "    </tr>\n",
       "    <tr>\n",
       "      <th>996</th>\n",
       "      <td>[M, o, d, i, j, i, i, s, l, i, k, e, P, e, h, ...</td>\n",
       "      <td>[B, I, I, B, B, B, O, O, O, O, O, O, O, O, O, ...</td>\n",
       "      <td>[29, 44, 66, 88, 56, 88, 88, 50, 4, 88, 20, 59...</td>\n",
       "      <td>[2, 1, 1, 2, 2, 2, 0, 0, 0, 0, 0, 0, 0, 0, 0, ...</td>\n",
       "    </tr>\n",
       "    <tr>\n",
       "      <th>997</th>\n",
       "      <td>[H, e, m, a, M, a, l, i, n, i, i, s, l, i, k, ...</td>\n",
       "      <td>[B, I, I, B, B, I, I, I, I, B, O, O, O, O, O, ...</td>\n",
       "      <td>[102, 59, 106, 79, 29, 79, 4, 88, 76, 88, 88, ...</td>\n",
       "      <td>[2, 1, 1, 2, 2, 1, 1, 1, 1, 2, 0, 0, 0, 0, 0, ...</td>\n",
       "    </tr>\n",
       "    <tr>\n",
       "      <th>998</th>\n",
       "      <td>[G, S, T, k, b, a, r, e, d, o, s, t, k, o, s, ...</td>\n",
       "      <td>[O, O, O, O, O, O, O, O, O, O, O, O, O, O, O, ...</td>\n",
       "      <td>[105, 73, 94, 20, 2, 79, 67, 59, 66, 44, 50, 6...</td>\n",
       "      <td>[0, 0, 0, 0, 0, 0, 0, 0, 0, 0, 0, 0, 0, 0, 0, ...</td>\n",
       "    </tr>\n",
       "    <tr>\n",
       "      <th>999</th>\n",
       "      <td>[C, h, a, l, o, a, u, r, k, u, c, h, h, o, n, ...</td>\n",
       "      <td>[O, O, O, O, O, O, O, O, O, O, O, O, O, O, O, ...</td>\n",
       "      <td>[23, 47, 79, 4, 44, 79, 65, 67, 20, 65, 1, 47,...</td>\n",
       "      <td>[0, 0, 0, 0, 0, 0, 0, 0, 0, 0, 0, 0, 0, 0, 0, ...</td>\n",
       "    </tr>\n",
       "  </tbody>\n",
       "</table>\n",
       "<p>3085 rows × 4 columns</p>\n",
       "</div>"
      ],
      "text/plain": [
       "                                                        Character  ...                                          Tag_index\n",
       "Sentence_index                                                     ...                                                   \n",
       "0               [B, a, h, u, b, a, l, i, 2, k, e, l, i, y, e, ...  ...  [2, 1, 1, 1, 1, 1, 1, 2, 0, 0, 0, 0, 0, 0, 0, ...\n",
       "1               [a, g, a, r, #, n, o, t, e, b, a, n, d, i, k, ...  ...  [0, 0, 0, 0, 0, 0, 0, 0, 0, 0, 0, 0, 0, 0, 0, ...\n",
       "10              [#, n, o, t, e, b, a, n, d, i, k, e, b, a, a, ...  ...  [0, 0, 0, 0, 0, 0, 0, 0, 0, 0, 0, 0, 0, 0, 0, ...\n",
       "100             [M, a, s, t, e, r, s, t, r, o, k, e, t, o, M, ...  ...  [0, 0, 0, 0, 0, 0, 0, 0, 0, 0, 0, 0, 0, 0, 2, ...\n",
       "1000            [J, i, n, l, o, g, o, n, k, o, d, e, s, h, k, ...  ...  [0, 0, 0, 0, 0, 0, 0, 0, 0, 0, 2, 1, 1, 2, 0, ...\n",
       "...                                                           ...  ...                                                ...\n",
       "995             [#, G, S, T, m, e, s, u, d, h, a, a, r, h, a, ...  ...  [0, 0, 0, 0, 0, 0, 0, 0, 0, 0, 0, 0, 0, 0, 0, ...\n",
       "996             [M, o, d, i, j, i, i, s, l, i, k, e, P, e, h, ...  ...  [2, 1, 1, 2, 2, 2, 0, 0, 0, 0, 0, 0, 0, 0, 0, ...\n",
       "997             [H, e, m, a, M, a, l, i, n, i, i, s, l, i, k, ...  ...  [2, 1, 1, 2, 2, 1, 1, 1, 1, 2, 0, 0, 0, 0, 0, ...\n",
       "998             [G, S, T, k, b, a, r, e, d, o, s, t, k, o, s, ...  ...  [0, 0, 0, 0, 0, 0, 0, 0, 0, 0, 0, 0, 0, 0, 0, ...\n",
       "999             [C, h, a, l, o, a, u, r, k, u, c, h, h, o, n, ...  ...  [0, 0, 0, 0, 0, 0, 0, 0, 0, 0, 0, 0, 0, 0, 0, ...\n",
       "\n",
       "[3085 rows x 4 columns]"
      ]
     },
     "execution_count": 119,
     "metadata": {
      "tags": []
     },
     "output_type": "execute_result"
    }
   ],
   "source": [
    "Data_group # there are 3085 unique sentences in the dataset"
   ]
  },
  {
   "cell_type": "markdown",
   "metadata": {
    "id": "Qu6T2kpRLpec"
   },
   "source": [
    "* The character index sequence will be the training sequence.\n",
    "* Tag_index will be the label sequence. \n",
    "* both of them will be padded so that their final length are the same.\n",
    "* Tag_index will be in one hot encoded format before training."
   ]
  },
  {
   "cell_type": "code",
   "execution_count": 120,
   "metadata": {
    "id": "CXqOD4bTusrn"
   },
   "outputs": [],
   "source": [
    "\n",
    "from keras.preprocessing.sequence import pad_sequences\n",
    "from keras.utils import to_categorical\n",
    "\n",
    "# max len for the training sequence\n",
    "max_len_char_idx = max([len(c) for c in Data_group['Character_index'].to_list()])\n",
    "\n",
    "char_idx_sequences = Data_group['Character_index'].to_list()\n",
    "tag_idx_sequences = Data_group['Tag_index'].to_list()\n",
    "X = pad_sequences(char_idx_sequences, maxlen=max_len_char_idx, padding='post', value=len(char_to_index)) # padding with next number to the last index\n",
    "y = pad_sequences(tag_idx_sequences, maxlen=max_len_char_idx, padding='post', value=tag_to_index['O']) # padding with outer 'O' values\n",
    "\n",
    "# one hot encoding the elements of y\n",
    "y = [to_categorical(i, num_classes=3) for i in y] # taking only 3 classes 'B', 'I', 'O'"
   ]
  },
  {
   "cell_type": "code",
   "execution_count": 121,
   "metadata": {
    "colab": {
     "base_uri": "https://localhost:8080/"
    },
    "id": "XIspWFSNWPpW",
    "outputId": "ef913d60-9654-4765-b161-5691b71c2f2b"
   },
   "outputs": [
    {
     "name": "stdout",
     "output_type": "stream",
     "text": [
      "(3085, 535)\n",
      "(3085, 535, 3)\n"
     ]
    }
   ],
   "source": [
    "y = np.array(y)\n",
    "\n",
    "print(X.shape)\n",
    "print(y.shape)"
   ]
  },
  {
   "cell_type": "markdown",
   "metadata": {
    "id": "p3n8ivJjMZ-X"
   },
   "source": [
    "splitting the data set into train and test set\n"
   ]
  },
  {
   "cell_type": "code",
   "execution_count": 122,
   "metadata": {
    "id": "P6BDFxD_4iqU"
   },
   "outputs": [],
   "source": [
    "# splitting into train and test set (90% -10% split)\n",
    "\n",
    "from sklearn.model_selection import train_test_split\n",
    "\n",
    "X_train, X_test, y_train, y_test = train_test_split(X, y, test_size=0.10, random_state=42)"
   ]
  },
  {
   "cell_type": "code",
   "execution_count": 123,
   "metadata": {
    "colab": {
     "base_uri": "https://localhost:8080/"
    },
    "id": "c8YvtiY_9lfN",
    "outputId": "8c8388d1-f001-4143-dc7e-a575c007f17e"
   },
   "outputs": [
    {
     "name": "stdout",
     "output_type": "stream",
     "text": [
      "(2776, 535) (309, 535)\n",
      "(2776, 535, 3) (309, 535, 3)\n"
     ]
    }
   ],
   "source": [
    "y_train = np.array(y_train)\n",
    "y_test = np.array(y_test)\n",
    "print(X_train.shape, X_test.shape)\n",
    "print(y_train.shape, y_test.shape)\n",
    "\n",
    "# the dataset size is very small"
   ]
  },
  {
   "cell_type": "markdown",
   "metadata": {
    "id": "y_xWsVwcMti9"
   },
   "source": [
    "Building Many-to-Many Bidirectional LSTM architecture for training"
   ]
  },
  {
   "cell_type": "code",
   "execution_count": 124,
   "metadata": {
    "id": "5Qsrpf2GDmQX"
   },
   "outputs": [],
   "source": [
    "# Building many-to-many bidirectional LSTM for training\n",
    "\n",
    "from tensorflow.keras import Sequential, Model, Input\n",
    "from tensorflow.keras.layers import LSTM, Embedding, Bidirectional, TimeDistributed, Dense, Dropout\n",
    "from tensorflow.keras import regularizers\n",
    "from tensorflow.keras.utils import plot_model, model_to_dot"
   ]
  },
  {
   "cell_type": "code",
   "execution_count": 125,
   "metadata": {
    "id": "zVTt3xU8EJ9s"
   },
   "outputs": [],
   "source": [
    "# setting seed \n",
    "\n",
    "np.random.seed(2)\n",
    "tf.random.set_seed(3)"
   ]
  },
  {
   "cell_type": "code",
   "execution_count": 126,
   "metadata": {
    "id": "5dyDYX3FEcpR"
   },
   "outputs": [],
   "source": [
    "def RNN_architecture(vocab_size, output_embedding_dim, input_length, input_dim):\n",
    "  model = Sequential()\n",
    "\n",
    "  # Embedding layer\n",
    "  # this will convert each character index to a vector of dimension output_embedding_dim\n",
    "  model.add(Embedding(input_dim = vocab_size, output_dim = output_embedding_dim, input_length=input_length))\n",
    "\n",
    "  # Bidirectional LSTM layer\n",
    "  model.add(Bidirectional(LSTM(units=input_dim, activation='tanh', return_sequences=True)))\n",
    "\n",
    "  # Dense softmax layer\n",
    "  model.add(Dense(units=3, activation='softmax'))\n",
    "  \n",
    "\n",
    "  model.compile(loss=keras.losses.categorical_crossentropy, optimizer=keras.optimizers.Adam(lr=0.001), metrics=['accuracy', keras.metrics.Recall(), keras.metrics.Precision()])\n",
    "  model.summary()\n",
    "  return model\n"
   ]
  },
  {
   "cell_type": "code",
   "execution_count": 127,
   "metadata": {
    "colab": {
     "base_uri": "https://localhost:8080/",
     "height": 607
    },
    "id": "LGqb80uEYX6S",
    "outputId": "0b17cd6e-21f1-4f39-efd3-135129122958"
   },
   "outputs": [
    {
     "name": "stdout",
     "output_type": "stream",
     "text": [
      "Model: \"sequential_2\"\n",
      "_________________________________________________________________\n",
      "Layer (type)                 Output Shape              Param #   \n",
      "=================================================================\n",
      "embedding_2 (Embedding)      (None, 535, 64)           6976      \n",
      "_________________________________________________________________\n",
      "bidirectional_2 (Bidirection (None, 535, 1070)         2568000   \n",
      "_________________________________________________________________\n",
      "dense_2 (Dense)              (None, 535, 3)            3213      \n",
      "=================================================================\n",
      "Total params: 2,578,189\n",
      "Trainable params: 2,578,189\n",
      "Non-trainable params: 0\n",
      "_________________________________________________________________\n"
     ]
    },
    {
     "data": {
      "image/png": "[encoded data removed]",
      "text/plain": [
       "<IPython.core.display.Image object>"
      ]
     },
     "execution_count": 127,
     "metadata": {
      "tags": []
     },
     "output_type": "execute_result"
    }
   ],
   "source": [
    "# Initialising the model\n",
    "\n",
    "vocab_size = len(list(set(Data['Character'].to_list())))+1\n",
    "output_embedding_dim = 64\n",
    "input_length = max_len_char_idx\n",
    "model_bilstm = RNN_architecture(vocab_size, 64, input_length, X_train.shape[1])\n",
    "plot_model(model_bilstm)"
   ]
  },
  {
   "cell_type": "markdown",
   "metadata": {
    "id": "TiL2we7ZbEVl"
   },
   "source": [
    "Training the model"
   ]
  },
  {
   "cell_type": "code",
   "execution_count": 128,
   "metadata": {
    "colab": {
     "base_uri": "https://localhost:8080/"
    },
    "id": "OiltFxqxZThY",
    "outputId": "17355ec9-d4bd-43da-ddb1-7eaa205f421a"
   },
   "outputs": [
    {
     "name": "stdout",
     "output_type": "stream",
     "text": [
      "Epoch 1/60\n",
      "10/10 - 9s - loss: 0.3423 - accuracy: 0.9646 - recall_2: 0.7613 - precision_2: 0.9829 - val_loss: 0.1038 - val_accuracy: 0.9772 - val_recall_2: 0.9772 - val_precision_2: 0.9772\n",
      "Epoch 2/60\n",
      "10/10 - 5s - loss: 0.0829 - accuracy: 0.9802 - recall_2: 0.9802 - precision_2: 0.9802 - val_loss: 0.0838 - val_accuracy: 0.9772 - val_recall_2: 0.9772 - val_precision_2: 0.9772\n",
      "Epoch 3/60\n",
      "10/10 - 5s - loss: 0.0741 - accuracy: 0.9802 - recall_2: 0.9802 - precision_2: 0.9802 - val_loss: 0.0807 - val_accuracy: 0.9772 - val_recall_2: 0.9772 - val_precision_2: 0.9772\n",
      "Epoch 4/60\n",
      "10/10 - 5s - loss: 0.0723 - accuracy: 0.9802 - recall_2: 0.9802 - precision_2: 0.9802 - val_loss: 0.0779 - val_accuracy: 0.9772 - val_recall_2: 0.9772 - val_precision_2: 0.9772\n",
      "Epoch 5/60\n",
      "10/10 - 5s - loss: 0.0700 - accuracy: 0.9802 - recall_2: 0.9802 - precision_2: 0.9802 - val_loss: 0.0753 - val_accuracy: 0.9771 - val_recall_2: 0.9770 - val_precision_2: 0.9773\n",
      "Epoch 6/60\n",
      "10/10 - 5s - loss: 0.0684 - accuracy: 0.9802 - recall_2: 0.9801 - precision_2: 0.9803 - val_loss: 0.0734 - val_accuracy: 0.9771 - val_recall_2: 0.9770 - val_precision_2: 0.9772\n",
      "Epoch 7/60\n",
      "10/10 - 5s - loss: 0.0665 - accuracy: 0.9801 - recall_2: 0.9797 - precision_2: 0.9806 - val_loss: 0.0718 - val_accuracy: 0.9771 - val_recall_2: 0.9769 - val_precision_2: 0.9775\n",
      "Epoch 8/60\n",
      "10/10 - 5s - loss: 0.0652 - accuracy: 0.9802 - recall_2: 0.9798 - precision_2: 0.9806 - val_loss: 0.0704 - val_accuracy: 0.9772 - val_recall_2: 0.9767 - val_precision_2: 0.9779\n",
      "Epoch 9/60\n",
      "10/10 - 5s - loss: 0.0641 - accuracy: 0.9801 - recall_2: 0.9795 - precision_2: 0.9810 - val_loss: 0.0689 - val_accuracy: 0.9773 - val_recall_2: 0.9766 - val_precision_2: 0.9784\n",
      "Epoch 10/60\n",
      "10/10 - 5s - loss: 0.0632 - accuracy: 0.9803 - recall_2: 0.9793 - precision_2: 0.9816 - val_loss: 0.0677 - val_accuracy: 0.9778 - val_recall_2: 0.9763 - val_precision_2: 0.9797\n",
      "Epoch 11/60\n",
      "10/10 - 5s - loss: 0.0625 - accuracy: 0.9806 - recall_2: 0.9794 - precision_2: 0.9819 - val_loss: 0.0669 - val_accuracy: 0.9781 - val_recall_2: 0.9765 - val_precision_2: 0.9799\n",
      "Epoch 12/60\n",
      "10/10 - 5s - loss: 0.0619 - accuracy: 0.9808 - recall_2: 0.9795 - precision_2: 0.9823 - val_loss: 0.0663 - val_accuracy: 0.9781 - val_recall_2: 0.9766 - val_precision_2: 0.9800\n",
      "Epoch 13/60\n",
      "10/10 - 5s - loss: 0.0614 - accuracy: 0.9809 - recall_2: 0.9797 - precision_2: 0.9824 - val_loss: 0.0659 - val_accuracy: 0.9783 - val_recall_2: 0.9769 - val_precision_2: 0.9802\n",
      "Epoch 14/60\n",
      "10/10 - 5s - loss: 0.0609 - accuracy: 0.9811 - recall_2: 0.9798 - precision_2: 0.9826 - val_loss: 0.0650 - val_accuracy: 0.9786 - val_recall_2: 0.9771 - val_precision_2: 0.9804\n",
      "Epoch 15/60\n",
      "10/10 - 5s - loss: 0.0607 - accuracy: 0.9812 - recall_2: 0.9799 - precision_2: 0.9827 - val_loss: 0.0652 - val_accuracy: 0.9787 - val_recall_2: 0.9774 - val_precision_2: 0.9810\n",
      "Epoch 16/60\n",
      "10/10 - 5s - loss: 0.0603 - accuracy: 0.9814 - recall_2: 0.9800 - precision_2: 0.9830 - val_loss: 0.0637 - val_accuracy: 0.9794 - val_recall_2: 0.9776 - val_precision_2: 0.9816\n",
      "Epoch 17/60\n",
      "10/10 - 5s - loss: 0.0598 - accuracy: 0.9814 - recall_2: 0.9801 - precision_2: 0.9830 - val_loss: 0.0639 - val_accuracy: 0.9793 - val_recall_2: 0.9779 - val_precision_2: 0.9810\n",
      "Epoch 18/60\n",
      "10/10 - 5s - loss: 0.0594 - accuracy: 0.9814 - recall_2: 0.9803 - precision_2: 0.9829 - val_loss: 0.0635 - val_accuracy: 0.9794 - val_recall_2: 0.9781 - val_precision_2: 0.9812\n",
      "Epoch 19/60\n",
      "10/10 - 5s - loss: 0.0593 - accuracy: 0.9815 - recall_2: 0.9802 - precision_2: 0.9832 - val_loss: 0.0630 - val_accuracy: 0.9793 - val_recall_2: 0.9782 - val_precision_2: 0.9812\n",
      "Epoch 20/60\n",
      "10/10 - 5s - loss: 0.0587 - accuracy: 0.9817 - recall_2: 0.9804 - precision_2: 0.9835 - val_loss: 0.0632 - val_accuracy: 0.9793 - val_recall_2: 0.9780 - val_precision_2: 0.9811\n",
      "Epoch 21/60\n",
      "10/10 - 5s - loss: 0.0585 - accuracy: 0.9817 - recall_2: 0.9802 - precision_2: 0.9835 - val_loss: 0.0619 - val_accuracy: 0.9798 - val_recall_2: 0.9783 - val_precision_2: 0.9819\n",
      "Epoch 22/60\n",
      "10/10 - 5s - loss: 0.0582 - accuracy: 0.9818 - recall_2: 0.9804 - precision_2: 0.9835 - val_loss: 0.0617 - val_accuracy: 0.9799 - val_recall_2: 0.9784 - val_precision_2: 0.9816\n",
      "Epoch 23/60\n",
      "10/10 - 5s - loss: 0.0577 - accuracy: 0.9819 - recall_2: 0.9805 - precision_2: 0.9835 - val_loss: 0.0610 - val_accuracy: 0.9805 - val_recall_2: 0.9785 - val_precision_2: 0.9826\n",
      "Epoch 24/60\n",
      "10/10 - 5s - loss: 0.0577 - accuracy: 0.9820 - recall_2: 0.9805 - precision_2: 0.9837 - val_loss: 0.0610 - val_accuracy: 0.9807 - val_recall_2: 0.9785 - val_precision_2: 0.9832\n",
      "Epoch 25/60\n",
      "10/10 - 5s - loss: 0.0572 - accuracy: 0.9822 - recall_2: 0.9806 - precision_2: 0.9839 - val_loss: 0.0613 - val_accuracy: 0.9798 - val_recall_2: 0.9785 - val_precision_2: 0.9814\n",
      "Epoch 26/60\n",
      "10/10 - 5s - loss: 0.0572 - accuracy: 0.9821 - recall_2: 0.9805 - precision_2: 0.9838 - val_loss: 0.0600 - val_accuracy: 0.9806 - val_recall_2: 0.9788 - val_precision_2: 0.9825\n",
      "Epoch 27/60\n",
      "10/10 - 5s - loss: 0.0572 - accuracy: 0.9822 - recall_2: 0.9806 - precision_2: 0.9838 - val_loss: 0.0597 - val_accuracy: 0.9805 - val_recall_2: 0.9789 - val_precision_2: 0.9825\n",
      "Epoch 28/60\n",
      "10/10 - 5s - loss: 0.0563 - accuracy: 0.9823 - recall_2: 0.9808 - precision_2: 0.9839 - val_loss: 0.0590 - val_accuracy: 0.9810 - val_recall_2: 0.9793 - val_precision_2: 0.9828\n",
      "Epoch 29/60\n",
      "10/10 - 5s - loss: 0.0559 - accuracy: 0.9825 - recall_2: 0.9809 - precision_2: 0.9840 - val_loss: 0.0590 - val_accuracy: 0.9810 - val_recall_2: 0.9793 - val_precision_2: 0.9828\n",
      "Epoch 30/60\n",
      "10/10 - 5s - loss: 0.0555 - accuracy: 0.9825 - recall_2: 0.9809 - precision_2: 0.9842 - val_loss: 0.0581 - val_accuracy: 0.9814 - val_recall_2: 0.9795 - val_precision_2: 0.9834\n",
      "Epoch 31/60\n",
      "10/10 - 5s - loss: 0.0552 - accuracy: 0.9826 - recall_2: 0.9811 - precision_2: 0.9841 - val_loss: 0.0578 - val_accuracy: 0.9812 - val_recall_2: 0.9796 - val_precision_2: 0.9831\n",
      "Epoch 32/60\n",
      "10/10 - 5s - loss: 0.0547 - accuracy: 0.9828 - recall_2: 0.9812 - precision_2: 0.9844 - val_loss: 0.0570 - val_accuracy: 0.9817 - val_recall_2: 0.9797 - val_precision_2: 0.9838\n",
      "Epoch 33/60\n",
      "10/10 - 5s - loss: 0.0547 - accuracy: 0.9827 - recall_2: 0.9812 - precision_2: 0.9841 - val_loss: 0.0575 - val_accuracy: 0.9809 - val_recall_2: 0.9798 - val_precision_2: 0.9824\n",
      "Epoch 34/60\n",
      "10/10 - 5s - loss: 0.0542 - accuracy: 0.9828 - recall_2: 0.9813 - precision_2: 0.9842 - val_loss: 0.0563 - val_accuracy: 0.9818 - val_recall_2: 0.9798 - val_precision_2: 0.9838\n",
      "Epoch 35/60\n",
      "10/10 - 5s - loss: 0.0534 - accuracy: 0.9829 - recall_2: 0.9815 - precision_2: 0.9844 - val_loss: 0.0556 - val_accuracy: 0.9818 - val_recall_2: 0.9801 - val_precision_2: 0.9834\n",
      "Epoch 36/60\n",
      "10/10 - 5s - loss: 0.0529 - accuracy: 0.9830 - recall_2: 0.9817 - precision_2: 0.9844 - val_loss: 0.0555 - val_accuracy: 0.9821 - val_recall_2: 0.9799 - val_precision_2: 0.9841\n",
      "Epoch 37/60\n",
      "10/10 - 5s - loss: 0.0540 - accuracy: 0.9828 - recall_2: 0.9817 - precision_2: 0.9841 - val_loss: 0.0572 - val_accuracy: 0.9816 - val_recall_2: 0.9805 - val_precision_2: 0.9828\n",
      "Epoch 38/60\n",
      "10/10 - 5s - loss: 0.0541 - accuracy: 0.9827 - recall_2: 0.9816 - precision_2: 0.9839 - val_loss: 0.0574 - val_accuracy: 0.9810 - val_recall_2: 0.9801 - val_precision_2: 0.9821\n",
      "Epoch 39/60\n",
      "10/10 - 5s - loss: 0.0536 - accuracy: 0.9828 - recall_2: 0.9818 - precision_2: 0.9840 - val_loss: 0.0551 - val_accuracy: 0.9818 - val_recall_2: 0.9800 - val_precision_2: 0.9838\n",
      "Epoch 40/60\n",
      "10/10 - 5s - loss: 0.0522 - accuracy: 0.9830 - recall_2: 0.9820 - precision_2: 0.9842 - val_loss: 0.0540 - val_accuracy: 0.9820 - val_recall_2: 0.9807 - val_precision_2: 0.9834\n",
      "Epoch 41/60\n",
      "10/10 - 5s - loss: 0.0517 - accuracy: 0.9831 - recall_2: 0.9820 - precision_2: 0.9842 - val_loss: 0.0536 - val_accuracy: 0.9819 - val_recall_2: 0.9809 - val_precision_2: 0.9830\n",
      "Epoch 42/60\n",
      "10/10 - 5s - loss: 0.0508 - accuracy: 0.9833 - recall_2: 0.9822 - precision_2: 0.9844 - val_loss: 0.0532 - val_accuracy: 0.9824 - val_recall_2: 0.9805 - val_precision_2: 0.9841\n",
      "Epoch 43/60\n",
      "10/10 - 5s - loss: 0.0507 - accuracy: 0.9832 - recall_2: 0.9822 - precision_2: 0.9844 - val_loss: 0.0529 - val_accuracy: 0.9818 - val_recall_2: 0.9809 - val_precision_2: 0.9828\n",
      "Epoch 44/60\n",
      "10/10 - 5s - loss: 0.0502 - accuracy: 0.9833 - recall_2: 0.9824 - precision_2: 0.9844 - val_loss: 0.0519 - val_accuracy: 0.9825 - val_recall_2: 0.9812 - val_precision_2: 0.9839\n",
      "Epoch 45/60\n",
      "10/10 - 5s - loss: 0.0494 - accuracy: 0.9835 - recall_2: 0.9826 - precision_2: 0.9845 - val_loss: 0.0513 - val_accuracy: 0.9827 - val_recall_2: 0.9816 - val_precision_2: 0.9836\n",
      "Epoch 46/60\n",
      "10/10 - 5s - loss: 0.0488 - accuracy: 0.9837 - recall_2: 0.9828 - precision_2: 0.9846 - val_loss: 0.0510 - val_accuracy: 0.9827 - val_recall_2: 0.9816 - val_precision_2: 0.9838\n",
      "Epoch 47/60\n",
      "10/10 - 5s - loss: 0.0487 - accuracy: 0.9837 - recall_2: 0.9828 - precision_2: 0.9847 - val_loss: 0.0510 - val_accuracy: 0.9826 - val_recall_2: 0.9817 - val_precision_2: 0.9837\n",
      "Epoch 48/60\n",
      "10/10 - 5s - loss: 0.0482 - accuracy: 0.9837 - recall_2: 0.9830 - precision_2: 0.9845 - val_loss: 0.0515 - val_accuracy: 0.9823 - val_recall_2: 0.9814 - val_precision_2: 0.9832\n",
      "Epoch 49/60\n",
      "10/10 - 5s - loss: 0.0479 - accuracy: 0.9838 - recall_2: 0.9830 - precision_2: 0.9847 - val_loss: 0.0501 - val_accuracy: 0.9827 - val_recall_2: 0.9818 - val_precision_2: 0.9838\n",
      "Epoch 50/60\n",
      "10/10 - 5s - loss: 0.0480 - accuracy: 0.9836 - recall_2: 0.9828 - precision_2: 0.9846 - val_loss: 0.0512 - val_accuracy: 0.9824 - val_recall_2: 0.9818 - val_precision_2: 0.9832\n",
      "Epoch 51/60\n",
      "10/10 - 5s - loss: 0.0481 - accuracy: 0.9837 - recall_2: 0.9829 - precision_2: 0.9844 - val_loss: 0.0504 - val_accuracy: 0.9824 - val_recall_2: 0.9817 - val_precision_2: 0.9834\n",
      "Epoch 52/60\n",
      "10/10 - 5s - loss: 0.0470 - accuracy: 0.9840 - recall_2: 0.9831 - precision_2: 0.9849 - val_loss: 0.0495 - val_accuracy: 0.9831 - val_recall_2: 0.9821 - val_precision_2: 0.9840\n",
      "Epoch 53/60\n",
      "10/10 - 5s - loss: 0.0467 - accuracy: 0.9841 - recall_2: 0.9833 - precision_2: 0.9849 - val_loss: 0.0507 - val_accuracy: 0.9828 - val_recall_2: 0.9821 - val_precision_2: 0.9837\n",
      "Epoch 54/60\n",
      "10/10 - 5s - loss: 0.0468 - accuracy: 0.9840 - recall_2: 0.9833 - precision_2: 0.9848 - val_loss: 0.0491 - val_accuracy: 0.9829 - val_recall_2: 0.9820 - val_precision_2: 0.9838\n",
      "Epoch 55/60\n",
      "10/10 - 5s - loss: 0.0465 - accuracy: 0.9841 - recall_2: 0.9834 - precision_2: 0.9849 - val_loss: 0.0486 - val_accuracy: 0.9830 - val_recall_2: 0.9823 - val_precision_2: 0.9840\n",
      "Epoch 56/60\n",
      "10/10 - 5s - loss: 0.0460 - accuracy: 0.9842 - recall_2: 0.9835 - precision_2: 0.9851 - val_loss: 0.0480 - val_accuracy: 0.9832 - val_recall_2: 0.9824 - val_precision_2: 0.9842\n",
      "Epoch 57/60\n",
      "10/10 - 5s - loss: 0.0457 - accuracy: 0.9842 - recall_2: 0.9836 - precision_2: 0.9850 - val_loss: 0.0479 - val_accuracy: 0.9833 - val_recall_2: 0.9824 - val_precision_2: 0.9843\n",
      "Epoch 58/60\n",
      "10/10 - 5s - loss: 0.0453 - accuracy: 0.9844 - recall_2: 0.9836 - precision_2: 0.9852 - val_loss: 0.0478 - val_accuracy: 0.9833 - val_recall_2: 0.9825 - val_precision_2: 0.9843\n",
      "Epoch 59/60\n",
      "10/10 - 5s - loss: 0.0459 - accuracy: 0.9841 - recall_2: 0.9834 - precision_2: 0.9848 - val_loss: 0.0492 - val_accuracy: 0.9830 - val_recall_2: 0.9816 - val_precision_2: 0.9844\n",
      "Epoch 60/60\n",
      "10/10 - 5s - loss: 0.0458 - accuracy: 0.9842 - recall_2: 0.9834 - precision_2: 0.9851 - val_loss: 0.0487 - val_accuracy: 0.9827 - val_recall_2: 0.9821 - val_precision_2: 0.9835\n"
     ]
    }
   ],
   "source": [
    "def training(features, labels, model):\n",
    "  history = model.fit(features, labels, batch_size=256, verbose=2, epochs=60, validation_split=0.1)\n",
    "  return history\n",
    "\n",
    "\n",
    "# Training the model\n",
    "results = training(X_train, y_train, model_bilstm)"
   ]
  },
  {
   "cell_type": "markdown",
   "metadata": {
    "id": "bESQx3RJrwfg"
   },
   "source": [
    "Train and Test scores"
   ]
  },
  {
   "cell_type": "code",
   "execution_count": 129,
   "metadata": {
    "colab": {
     "base_uri": "https://localhost:8080/"
    },
    "id": "DVHK-gmfhW-K",
    "outputId": "4b2f4d54-3a7a-4dde-963b-d3e7e8f1910e"
   },
   "outputs": [
    {
     "name": "stdout",
     "output_type": "stream",
     "text": [
      "87/87 - 6s - loss: 0.0459 - accuracy: 0.9840 - recall_2: 0.9834 - precision_2: 0.9846\n",
      "\n",
      "Train set metrics:\n",
      "Loss = 0.04587560147047043, Accuracy = 0.9839559197425842, Recall = 0.9834139347076416, Precision = 0.9845986366271973\n",
      "\n",
      "10/10 - 1s - loss: 0.0480 - accuracy: 0.9835 - recall_2: 0.9831 - precision_2: 0.9840\n",
      "\n",
      "Test set metrics:\n",
      "Loss = 0.047979552298784256, Accuracy = 0.983522355556488, Recall = 0.9830747246742249, Precision = 0.9839913845062256\n",
      "\n"
     ]
    }
   ],
   "source": [
    "loss, acc, recall, precision = model_bilstm.evaluate(X_train, y_train, verbose=2)\n",
    "print('\\nTrain set metrics:')\n",
    "print(\"Loss = {}, Accuracy = {}, Recall = {}, Precision = {}\\n\".format(loss, acc, recall, precision))\n",
    "\n",
    "loss, acc, recall, precision = model_bilstm.evaluate(X_test, y_test, verbose=2) \n",
    "print('\\nTest set metrics:')\n",
    "print(\"Loss = {}, Accuracy = {}, Recall = {}, Precision = {}\\n\".format(loss, acc, recall, precision))"
   ]
  },
  {
   "cell_type": "markdown",
   "metadata": {
    "id": "ui1UcD44oIIu"
   },
   "source": [
    "Visualising the accuracy and training during training"
   ]
  },
  {
   "cell_type": "code",
   "execution_count": 130,
   "metadata": {
    "colab": {
     "base_uri": "https://localhost:8080/",
     "height": 312
    },
    "id": "fpU2pN6WhpPB",
    "outputId": "b76f0674-d251-4ab6-b704-999869d4cb08"
   },
   "outputs": [
    {
     "data": {
      "text/plain": [
       "<matplotlib.legend.Legend at 0x7fb4cf61a6d8>"
      ]
     },
     "execution_count": 130,
     "metadata": {
      "tags": []
     },
     "output_type": "execute_result"
    },
    {
     "data": {
      "image/png": "[encoded data removed]",
      "text/plain": [
       "<Figure size 432x288 with 1 Axes>"
      ]
     },
     "metadata": {
      "needs_background": "light",
      "tags": []
     },
     "output_type": "display_data"
    }
   ],
   "source": [
    "# visualising accuracy during training\n",
    "import matplotlib.pyplot as plt\n",
    "%matplotlib inline\n",
    "\n",
    "plt.plot(results.history['accuracy'])\n",
    "plt.plot(results.history['val_accuracy'])\n",
    "plt.title('model accuracy')\n",
    "plt.ylabel('accuracy')\n",
    "plt.xlabel('epoch')\n",
    "plt.legend(['train', 'val'], loc='lower left')"
   ]
  },
  {
   "cell_type": "code",
   "execution_count": 131,
   "metadata": {
    "colab": {
     "base_uri": "https://localhost:8080/",
     "height": 312
    },
    "id": "GJZiqQ7c59L9",
    "outputId": "e0abd454-7bd6-4d94-e86d-76a8e3a7e86f"
   },
   "outputs": [
    {
     "data": {
      "text/plain": [
       "<matplotlib.legend.Legend at 0x7fb4cf596da0>"
      ]
     },
     "execution_count": 131,
     "metadata": {
      "tags": []
     },
     "output_type": "execute_result"
    },
    {
     "data": {
      "image/png": "[encoded data removed]",
      "text/plain": [
       "<Figure size 432x288 with 1 Axes>"
      ]
     },
     "metadata": {
      "needs_background": "light",
      "tags": []
     },
     "output_type": "display_data"
    }
   ],
   "source": [
    "# visualising loss during training\n",
    "plt.plot(results.history['loss'])\n",
    "plt.plot(results.history['val_loss'])\n",
    "plt.title('model loss')\n",
    "plt.ylabel('loss')\n",
    "plt.xlabel('epoch')\n",
    "plt.legend(['train', 'val'], loc='upper right')"
   ]
  },
  {
   "cell_type": "markdown",
   "metadata": {
    "id": "DfmMjioeXv_1"
   },
   "source": [
    "\n",
    "As padding inserts lot of 'O' values to the label matrix, the previous train and test metrics are not true representation of model performance."
   ]
  },
  {
   "cell_type": "markdown",
   "metadata": {
    "id": "YwlykyC5vcMg"
   },
   "source": [
    "#### Measuring model performance by computing the ratio of predicted Named Entities to total ground truth Named Entities\n"
   ]
  },
  {
   "cell_type": "code",
   "execution_count": 158,
   "metadata": {
    "id": "FES83sG6P3Uz"
   },
   "outputs": [],
   "source": [
    "# building the prediction table on X and y dataset\n",
    "\n",
    "def build_prediction_table(model, X, y, index_to_char, index_to_tag):\n",
    "  # predictions vector of the model\n",
    "  resulting_vector = np.argmax(model.predict(X), axis=2)\n",
    "\n",
    "  ground_truth_vector = np.argmax(y, axis=2)\n",
    "  \n",
    "  prediction_char_table = pd.DataFrame({'char_token': pd.Series(X.reshape(-1,).tolist()), 'tag_token': pd.Series(resulting_vector.reshape(-1,).tolist()), 'ground_truth_token': pd.Series(ground_truth_vector.reshape(-1,).tolist())})\n",
    "  prediction_char_table['chars'] = prediction_char_table['char_token'].map(index_to_char)\n",
    "  prediction_char_table['tag'] = prediction_char_table['tag_token'].map(index_to_tag)\n",
    "  prediction_char_table['ground_truth'] = prediction_char_table['ground_truth_token'].map(index_to_tag)\n",
    "\n",
    "  ground_truth_tags = prediction_char_table['ground_truth'].to_numpy().reshape(ground_truth_vector.shape)\n",
    "  predicted_tags = prediction_char_table['tag'].to_numpy().reshape(resulting_vector.shape)\n",
    "  test_words = prediction_char_table['chars'].to_numpy().reshape(X.shape)\n",
    "  predictions = pd.DataFrame({'words': test_words.tolist(), 'predicted_tags': predicted_tags.tolist(), 'ground_truth_tags': ground_truth_tags.tolist()})\n",
    "  return predictions"
   ]
  },
  {
   "cell_type": "code",
   "execution_count": 159,
   "metadata": {
    "id": "mWNLK3qhPBEF"
   },
   "outputs": [],
   "source": [
    "# function to output predicted as well as ground truth Named entities\n",
    "\n",
    "def output_predicted_named_entities(prediction_table):\n",
    "  predicted_named_entities = [] # list of predicted Named entities\n",
    "  ground_truth_named_entities = [] # list of ground truth Named enitities\n",
    "\n",
    "\n",
    "  for row in range(prediction_table.shape[0]):\n",
    "    test_sentence = prediction_table.loc[row, 'words']\n",
    "    test_tag = prediction_table.loc[row, 'predicted_tags']\n",
    "    ground_truth_tag = prediction_table.loc[row, 'ground_truth_tags']\n",
    "    test_tag = ''.join(test_tag) # transforming list into sentence\n",
    "    ground_truth_tag = ''.join(ground_truth_tag)\n",
    "\n",
    "    # finding character sequences which have tag as BI...IB \n",
    "    list_of_matched_indices = [(m.start(0), m.end(0)) for m in re.finditer(r'B[I]+B', test_tag)] \n",
    "    match_in_ground_truth_tags = [(m.start(0), m.end(0)) for m in re.finditer(r'B[I]+B', ground_truth_tag)]\n",
    "    \n",
    "    # listing the named entities and ground truth named entities\n",
    "    named_entity = [''.join(test_sentence[x[0]:x[1]]) for x in  list_of_matched_indices]\n",
    "    ground_truth_named_entity = [''.join(test_sentence[x[0]:x[1]]) for x in match_in_ground_truth_tags]\n",
    "\n",
    "    if (len(named_entity)>0):\n",
    "      for ne in named_entity:\n",
    "        predicted_named_entities.append(ne)\n",
    "    if (len(ground_truth_named_entity)>0):\n",
    "      for ne in ground_truth_named_entity:\n",
    "        ground_truth_named_entities.append(ne)\n",
    "\n",
    "  \n",
    "  return predicted_named_entities, ground_truth_named_entities"
   ]
  },
  {
   "cell_type": "code",
   "execution_count": 165,
   "metadata": {
    "colab": {
     "base_uri": "https://localhost:8080/"
    },
    "id": "uy6PmaR3PDBZ",
    "outputId": "e83c1218-5257-40a1-efff-10f713e49a0c"
   },
   "outputs": [
    {
     "name": "stdout",
     "output_type": "stream",
     "text": [
      "Train Accuracy: 11.140080587817017%\n",
      "Test Accuracy: 11.90965092402464%\n"
     ]
    }
   ],
   "source": [
    "# Computing Accuracy of the model\n",
    "\n",
    "# Model accuracy over the train set\n",
    "train_predictions = build_prediction_table(model_bilstm, X_train, y_train, index_to_char, index_to_tag)\n",
    "train_predicted_NE, train_ground_truth_NE = output_predicted_named_entities(train_predictions)\n",
    "print(\"Train Accuracy: {}%\".format(len(train_predicted_NE)*100/len(train_ground_truth_NE)))\n",
    "\n",
    "# Model accuracy over the test set\n",
    "test_predictions = build_prediction_table(model_bilstm, X_test, y_test, index_to_char, index_to_tag)\n",
    "test_predicted_NE, test_ground_truth_NE = output_predicted_named_entities(test_predictions)\n",
    "print(\"Test Accuracy: {}%\".format(len(test_predicted_NE)*100/len(test_ground_truth_NE)))"
   ]
  },
  {
   "cell_type": "markdown",
   "metadata": {
    "id": "GeMr1He0T7sV"
   },
   "source": [
    "* The above performance measure indicates that the model is underfitting.\n",
    "* This is due to small size of the dataset (only around 3085 unique sentences)"
   ]
  },
  {
   "cell_type": "markdown",
   "metadata": {
    "id": "X0FYjBVtdgCT"
   },
   "source": [
    "## Treating word as the training instance"
   ]
  },
  {
   "cell_type": "markdown",
   "metadata": {
    "id": "Z9V74aB6GSGW"
   },
   "source": [
    "Grouping by the words\n",
    "\n",
    "In this case, the model is trained over words with each character of the word as the input unit. The model predicts tags for each character in the word. Finally the words with the predicted tag as BI...IB are classified as Named Entities. "
   ]
  },
  {
   "cell_type": "code",
   "execution_count": 132,
   "metadata": {
    "id": "rekDYCbmKOkq"
   },
   "outputs": [],
   "source": [
    "Data_group_2 = Data.groupby('Word_index')[['Character', 'Tag', 'Character_index', 'Tag_index']].agg(list)"
   ]
  },
  {
   "cell_type": "markdown",
   "metadata": {
    "id": "RG26HCr3pq8t"
   },
   "source": [
    "* The character index sequence will be the training sequence.\n",
    "* Tag_index will be the label sequence. \n",
    "* both of them will be padded so that their final length are the same.\n",
    "* Tag_index will be in one hot encoded format before training."
   ]
  },
  {
   "cell_type": "code",
   "execution_count": 133,
   "metadata": {
    "id": "TCUoJh5Nd2M9"
   },
   "outputs": [],
   "source": [
    "# max len for the training sequence\n",
    "max_len_char_idx = max([len(c) for c in Data_group_2['Character_index'].to_list()])\n",
    "\n",
    "char_idx_sequences = Data_group_2['Character_index'].to_list()\n",
    "tag_idx_sequences = Data_group_2['Tag_index'].to_list()\n",
    "X_2 = pad_sequences(char_idx_sequences, maxlen=max_len_char_idx, padding='post', value=len(char_to_index)) # padding with next number to the last index\n",
    "y_2 = pad_sequences(tag_idx_sequences, maxlen=max_len_char_idx, padding='post', value=tag_to_index['O']) # padding with outer 'O' values\n",
    "\n",
    "# one hot encoding the elements of y\n",
    "y_2 = [to_categorical(i, num_classes=3) for i in y_2] # taking only 3 classes 'B', 'I', 'O'"
   ]
  },
  {
   "cell_type": "code",
   "execution_count": 134,
   "metadata": {
    "colab": {
     "base_uri": "https://localhost:8080/"
    },
    "id": "fXK2Xc_oedp0",
    "outputId": "9972d41d-1143-46ad-fa98-330bc2060d19"
   },
   "outputs": [
    {
     "name": "stdout",
     "output_type": "stream",
     "text": [
      "(68504, 66)\n",
      "(68504, 66, 3)\n"
     ]
    }
   ],
   "source": [
    "y_2 = np.array(y_2)\n",
    "\n",
    "print(X_2.shape)\n",
    "print(y_2.shape)"
   ]
  },
  {
   "cell_type": "markdown",
   "metadata": {
    "id": "EpKG1ZD3p_ao"
   },
   "source": [
    "splitting the data set into train and test set"
   ]
  },
  {
   "cell_type": "code",
   "execution_count": 135,
   "metadata": {
    "id": "pcyWGAnVen3s"
   },
   "outputs": [],
   "source": [
    "# splitting into train and test set (80% and 20%)\n",
    "\n",
    "from sklearn.model_selection import train_test_split\n",
    "\n",
    "X_train_perword, X_test_perword, y_train_perword, y_test_perword = train_test_split(X_2, y_2, test_size=0.20, random_state=42)"
   ]
  },
  {
   "cell_type": "code",
   "execution_count": 136,
   "metadata": {
    "colab": {
     "base_uri": "https://localhost:8080/"
    },
    "id": "6DshQ8qLgo9h",
    "outputId": "dc7abe68-9f70-4bbb-d846-2933bc4fa539"
   },
   "outputs": [
    {
     "name": "stdout",
     "output_type": "stream",
     "text": [
      "(54803, 66) (13701, 66)\n",
      "(54803, 66, 3) (13701, 66, 3)\n"
     ]
    }
   ],
   "source": [
    "y_train_perword = np.array(y_train_perword)\n",
    "y_test_perword = np.array(y_test_perword)\n",
    "print(X_train_perword.shape, X_test_perword.shape)\n",
    "print(y_train_perword.shape, y_test_perword.shape)"
   ]
  },
  {
   "cell_type": "markdown",
   "metadata": {
    "id": "HkBHCiEUqZqb"
   },
   "source": [
    "Instantiating the Bidirectional LSTM model"
   ]
  },
  {
   "cell_type": "code",
   "execution_count": 137,
   "metadata": {
    "colab": {
     "base_uri": "https://localhost:8080/",
     "height": 607
    },
    "id": "UEfAigboevdB",
    "outputId": "72675c96-763c-495c-89aa-2a7625ac6b41"
   },
   "outputs": [
    {
     "name": "stdout",
     "output_type": "stream",
     "text": [
      "Model: \"sequential_3\"\n",
      "_________________________________________________________________\n",
      "Layer (type)                 Output Shape              Param #   \n",
      "=================================================================\n",
      "embedding_3 (Embedding)      (None, 66, 64)            6976      \n",
      "_________________________________________________________________\n",
      "bidirectional_3 (Bidirection (None, 66, 132)           69168     \n",
      "_________________________________________________________________\n",
      "dense_3 (Dense)              (None, 66, 3)             399       \n",
      "=================================================================\n",
      "Total params: 76,543\n",
      "Trainable params: 76,543\n",
      "Non-trainable params: 0\n",
      "_________________________________________________________________\n"
     ]
    },
    {
     "data": {
      "image/png": "[encoded data removed]",
      "text/plain": [
       "<IPython.core.display.Image object>"
      ]
     },
     "execution_count": 137,
     "metadata": {
      "tags": []
     },
     "output_type": "execute_result"
    }
   ],
   "source": [
    "# Instantiating the Bidirectional LSTM model\n",
    "\n",
    "vocab_size = len(list(set(Data['Character'].to_list())))+1\n",
    "output_embedding_dim = 64\n",
    "input_length = max_len_char_idx\n",
    "\n",
    "# model\n",
    "model_bilstm_perword = RNN_architecture(vocab_size, 64, input_length, X_train_perword.shape[1])\n",
    "\n",
    "\n",
    "plot_model(model_bilstm_perword)"
   ]
  },
  {
   "cell_type": "code",
   "execution_count": 138,
   "metadata": {
    "colab": {
     "base_uri": "https://localhost:8080/"
    },
    "id": "0xsnpvhdfBrn",
    "outputId": "02d5b78d-a22f-48dc-f76f-4f161ffdb633"
   },
   "outputs": [
    {
     "name": "stdout",
     "output_type": "stream",
     "text": [
      "Epoch 1/60\n",
      "193/193 - 6s - loss: 0.0793 - accuracy: 0.9875 - recall_3: 0.9515 - precision_3: 0.9926 - val_loss: 0.0265 - val_accuracy: 0.9924 - val_recall_3: 0.9924 - val_precision_3: 0.9924\n",
      "Epoch 2/60\n",
      "193/193 - 3s - loss: 0.0240 - accuracy: 0.9926 - recall_3: 0.9923 - precision_3: 0.9930 - val_loss: 0.0233 - val_accuracy: 0.9926 - val_recall_3: 0.9920 - val_precision_3: 0.9934\n",
      "Epoch 3/60\n",
      "193/193 - 3s - loss: 0.0217 - accuracy: 0.9930 - recall_3: 0.9924 - precision_3: 0.9936 - val_loss: 0.0210 - val_accuracy: 0.9930 - val_recall_3: 0.9925 - val_precision_3: 0.9934\n",
      "Epoch 4/60\n",
      "193/193 - 3s - loss: 0.0200 - accuracy: 0.9932 - recall_3: 0.9928 - precision_3: 0.9936 - val_loss: 0.0193 - val_accuracy: 0.9932 - val_recall_3: 0.9928 - val_precision_3: 0.9935\n",
      "Epoch 5/60\n",
      "193/193 - 3s - loss: 0.0185 - accuracy: 0.9935 - recall_3: 0.9932 - precision_3: 0.9938 - val_loss: 0.0176 - val_accuracy: 0.9937 - val_recall_3: 0.9934 - val_precision_3: 0.9940\n",
      "Epoch 6/60\n",
      "193/193 - 3s - loss: 0.0173 - accuracy: 0.9938 - recall_3: 0.9935 - precision_3: 0.9942 - val_loss: 0.0166 - val_accuracy: 0.9941 - val_recall_3: 0.9938 - val_precision_3: 0.9944\n",
      "Epoch 7/60\n",
      "193/193 - 3s - loss: 0.0164 - accuracy: 0.9942 - recall_3: 0.9939 - precision_3: 0.9944 - val_loss: 0.0157 - val_accuracy: 0.9947 - val_recall_3: 0.9944 - val_precision_3: 0.9949\n",
      "Epoch 8/60\n",
      "193/193 - 3s - loss: 0.0160 - accuracy: 0.9942 - recall_3: 0.9940 - precision_3: 0.9945 - val_loss: 0.0152 - val_accuracy: 0.9948 - val_recall_3: 0.9945 - val_precision_3: 0.9950\n",
      "Epoch 9/60\n",
      "193/193 - 3s - loss: 0.0156 - accuracy: 0.9943 - recall_3: 0.9941 - precision_3: 0.9945 - val_loss: 0.0153 - val_accuracy: 0.9946 - val_recall_3: 0.9943 - val_precision_3: 0.9948\n",
      "Epoch 10/60\n",
      "193/193 - 3s - loss: 0.0152 - accuracy: 0.9945 - recall_3: 0.9943 - precision_3: 0.9947 - val_loss: 0.0145 - val_accuracy: 0.9948 - val_recall_3: 0.9946 - val_precision_3: 0.9950\n",
      "Epoch 11/60\n",
      "193/193 - 3s - loss: 0.0149 - accuracy: 0.9946 - recall_3: 0.9944 - precision_3: 0.9947 - val_loss: 0.0142 - val_accuracy: 0.9949 - val_recall_3: 0.9948 - val_precision_3: 0.9951\n",
      "Epoch 12/60\n",
      "193/193 - 3s - loss: 0.0145 - accuracy: 0.9947 - recall_3: 0.9945 - precision_3: 0.9948 - val_loss: 0.0139 - val_accuracy: 0.9952 - val_recall_3: 0.9950 - val_precision_3: 0.9954\n",
      "Epoch 13/60\n",
      "193/193 - 3s - loss: 0.0143 - accuracy: 0.9947 - recall_3: 0.9945 - precision_3: 0.9948 - val_loss: 0.0136 - val_accuracy: 0.9951 - val_recall_3: 0.9950 - val_precision_3: 0.9952\n",
      "Epoch 14/60\n",
      "193/193 - 3s - loss: 0.0140 - accuracy: 0.9948 - recall_3: 0.9947 - precision_3: 0.9949 - val_loss: 0.0134 - val_accuracy: 0.9952 - val_recall_3: 0.9951 - val_precision_3: 0.9953\n",
      "Epoch 15/60\n",
      "193/193 - 3s - loss: 0.0138 - accuracy: 0.9949 - recall_3: 0.9948 - precision_3: 0.9950 - val_loss: 0.0132 - val_accuracy: 0.9953 - val_recall_3: 0.9951 - val_precision_3: 0.9953\n",
      "Epoch 16/60\n",
      "193/193 - 3s - loss: 0.0136 - accuracy: 0.9949 - recall_3: 0.9948 - precision_3: 0.9950 - val_loss: 0.0130 - val_accuracy: 0.9952 - val_recall_3: 0.9951 - val_precision_3: 0.9953\n",
      "Epoch 17/60\n",
      "193/193 - 3s - loss: 0.0132 - accuracy: 0.9951 - recall_3: 0.9950 - precision_3: 0.9951 - val_loss: 0.0129 - val_accuracy: 0.9952 - val_recall_3: 0.9951 - val_precision_3: 0.9953\n",
      "Epoch 18/60\n",
      "193/193 - 3s - loss: 0.0134 - accuracy: 0.9950 - recall_3: 0.9949 - precision_3: 0.9951 - val_loss: 0.0128 - val_accuracy: 0.9953 - val_recall_3: 0.9952 - val_precision_3: 0.9953\n",
      "Epoch 19/60\n",
      "193/193 - 3s - loss: 0.0129 - accuracy: 0.9953 - recall_3: 0.9952 - precision_3: 0.9953 - val_loss: 0.0128 - val_accuracy: 0.9955 - val_recall_3: 0.9955 - val_precision_3: 0.9956\n",
      "Epoch 20/60\n",
      "193/193 - 3s - loss: 0.0128 - accuracy: 0.9953 - recall_3: 0.9952 - precision_3: 0.9953 - val_loss: 0.0124 - val_accuracy: 0.9954 - val_recall_3: 0.9954 - val_precision_3: 0.9955\n",
      "Epoch 21/60\n",
      "193/193 - 3s - loss: 0.0126 - accuracy: 0.9954 - recall_3: 0.9953 - precision_3: 0.9954 - val_loss: 0.0123 - val_accuracy: 0.9957 - val_recall_3: 0.9957 - val_precision_3: 0.9958\n",
      "Epoch 22/60\n",
      "193/193 - 3s - loss: 0.0124 - accuracy: 0.9955 - recall_3: 0.9954 - precision_3: 0.9955 - val_loss: 0.0121 - val_accuracy: 0.9955 - val_recall_3: 0.9955 - val_precision_3: 0.9956\n",
      "Epoch 23/60\n",
      "193/193 - 3s - loss: 0.0123 - accuracy: 0.9954 - recall_3: 0.9954 - precision_3: 0.9955 - val_loss: 0.0120 - val_accuracy: 0.9957 - val_recall_3: 0.9956 - val_precision_3: 0.9957\n",
      "Epoch 24/60\n",
      "193/193 - 3s - loss: 0.0121 - accuracy: 0.9955 - recall_3: 0.9955 - precision_3: 0.9956 - val_loss: 0.0121 - val_accuracy: 0.9956 - val_recall_3: 0.9955 - val_precision_3: 0.9957\n",
      "Epoch 25/60\n",
      "193/193 - 3s - loss: 0.0118 - accuracy: 0.9956 - recall_3: 0.9956 - precision_3: 0.9957 - val_loss: 0.0118 - val_accuracy: 0.9958 - val_recall_3: 0.9958 - val_precision_3: 0.9958\n",
      "Epoch 26/60\n",
      "193/193 - 3s - loss: 0.0117 - accuracy: 0.9956 - recall_3: 0.9956 - precision_3: 0.9957 - val_loss: 0.0119 - val_accuracy: 0.9958 - val_recall_3: 0.9957 - val_precision_3: 0.9958\n",
      "Epoch 27/60\n",
      "193/193 - 3s - loss: 0.0116 - accuracy: 0.9957 - recall_3: 0.9956 - precision_3: 0.9957 - val_loss: 0.0118 - val_accuracy: 0.9958 - val_recall_3: 0.9957 - val_precision_3: 0.9958\n",
      "Epoch 28/60\n",
      "193/193 - 3s - loss: 0.0114 - accuracy: 0.9957 - recall_3: 0.9957 - precision_3: 0.9958 - val_loss: 0.0116 - val_accuracy: 0.9958 - val_recall_3: 0.9957 - val_precision_3: 0.9958\n",
      "Epoch 29/60\n",
      "193/193 - 3s - loss: 0.0111 - accuracy: 0.9958 - recall_3: 0.9958 - precision_3: 0.9959 - val_loss: 0.0118 - val_accuracy: 0.9956 - val_recall_3: 0.9956 - val_precision_3: 0.9957\n",
      "Epoch 30/60\n",
      "193/193 - 3s - loss: 0.0110 - accuracy: 0.9958 - recall_3: 0.9958 - precision_3: 0.9959 - val_loss: 0.0115 - val_accuracy: 0.9959 - val_recall_3: 0.9959 - val_precision_3: 0.9959\n",
      "Epoch 31/60\n",
      "193/193 - 3s - loss: 0.0108 - accuracy: 0.9960 - recall_3: 0.9959 - precision_3: 0.9960 - val_loss: 0.0114 - val_accuracy: 0.9959 - val_recall_3: 0.9958 - val_precision_3: 0.9960\n",
      "Epoch 32/60\n",
      "193/193 - 3s - loss: 0.0107 - accuracy: 0.9960 - recall_3: 0.9960 - precision_3: 0.9961 - val_loss: 0.0114 - val_accuracy: 0.9959 - val_recall_3: 0.9959 - val_precision_3: 0.9960\n",
      "Epoch 33/60\n",
      "193/193 - 3s - loss: 0.0106 - accuracy: 0.9961 - recall_3: 0.9960 - precision_3: 0.9961 - val_loss: 0.0114 - val_accuracy: 0.9960 - val_recall_3: 0.9959 - val_precision_3: 0.9960\n",
      "Epoch 34/60\n",
      "193/193 - 3s - loss: 0.0104 - accuracy: 0.9961 - recall_3: 0.9961 - precision_3: 0.9961 - val_loss: 0.0112 - val_accuracy: 0.9960 - val_recall_3: 0.9960 - val_precision_3: 0.9960\n",
      "Epoch 35/60\n",
      "193/193 - 3s - loss: 0.0102 - accuracy: 0.9962 - recall_3: 0.9961 - precision_3: 0.9962 - val_loss: 0.0112 - val_accuracy: 0.9960 - val_recall_3: 0.9960 - val_precision_3: 0.9960\n",
      "Epoch 36/60\n",
      "193/193 - 3s - loss: 0.0102 - accuracy: 0.9962 - recall_3: 0.9962 - precision_3: 0.9963 - val_loss: 0.0113 - val_accuracy: 0.9960 - val_recall_3: 0.9960 - val_precision_3: 0.9960\n",
      "Epoch 37/60\n",
      "193/193 - 3s - loss: 0.0100 - accuracy: 0.9963 - recall_3: 0.9962 - precision_3: 0.9963 - val_loss: 0.0111 - val_accuracy: 0.9960 - val_recall_3: 0.9960 - val_precision_3: 0.9961\n",
      "Epoch 38/60\n",
      "193/193 - 3s - loss: 0.0100 - accuracy: 0.9963 - recall_3: 0.9962 - precision_3: 0.9963 - val_loss: 0.0115 - val_accuracy: 0.9959 - val_recall_3: 0.9959 - val_precision_3: 0.9959\n",
      "Epoch 39/60\n",
      "193/193 - 3s - loss: 0.0096 - accuracy: 0.9964 - recall_3: 0.9964 - precision_3: 0.9964 - val_loss: 0.0112 - val_accuracy: 0.9962 - val_recall_3: 0.9962 - val_precision_3: 0.9962\n",
      "Epoch 40/60\n",
      "193/193 - 3s - loss: 0.0095 - accuracy: 0.9965 - recall_3: 0.9964 - precision_3: 0.9965 - val_loss: 0.0111 - val_accuracy: 0.9960 - val_recall_3: 0.9960 - val_precision_3: 0.9960\n",
      "Epoch 41/60\n",
      "193/193 - 3s - loss: 0.0095 - accuracy: 0.9964 - recall_3: 0.9964 - precision_3: 0.9965 - val_loss: 0.0110 - val_accuracy: 0.9961 - val_recall_3: 0.9961 - val_precision_3: 0.9961\n",
      "Epoch 42/60\n",
      "193/193 - 3s - loss: 0.0093 - accuracy: 0.9965 - recall_3: 0.9965 - precision_3: 0.9965 - val_loss: 0.0112 - val_accuracy: 0.9961 - val_recall_3: 0.9960 - val_precision_3: 0.9961\n",
      "Epoch 43/60\n",
      "193/193 - 3s - loss: 0.0092 - accuracy: 0.9966 - recall_3: 0.9965 - precision_3: 0.9966 - val_loss: 0.0116 - val_accuracy: 0.9959 - val_recall_3: 0.9959 - val_precision_3: 0.9959\n",
      "Epoch 44/60\n",
      "193/193 - 3s - loss: 0.0091 - accuracy: 0.9966 - recall_3: 0.9966 - precision_3: 0.9966 - val_loss: 0.0111 - val_accuracy: 0.9961 - val_recall_3: 0.9961 - val_precision_3: 0.9962\n",
      "Epoch 45/60\n",
      "193/193 - 3s - loss: 0.0089 - accuracy: 0.9966 - recall_3: 0.9966 - precision_3: 0.9967 - val_loss: 0.0110 - val_accuracy: 0.9962 - val_recall_3: 0.9962 - val_precision_3: 0.9962\n",
      "Epoch 46/60\n",
      "193/193 - 3s - loss: 0.0088 - accuracy: 0.9967 - recall_3: 0.9967 - precision_3: 0.9967 - val_loss: 0.0110 - val_accuracy: 0.9962 - val_recall_3: 0.9962 - val_precision_3: 0.9963\n",
      "Epoch 47/60\n",
      "193/193 - 3s - loss: 0.0086 - accuracy: 0.9967 - recall_3: 0.9967 - precision_3: 0.9968 - val_loss: 0.0109 - val_accuracy: 0.9963 - val_recall_3: 0.9962 - val_precision_3: 0.9963\n",
      "Epoch 48/60\n",
      "193/193 - 3s - loss: 0.0085 - accuracy: 0.9968 - recall_3: 0.9968 - precision_3: 0.9968 - val_loss: 0.0111 - val_accuracy: 0.9963 - val_recall_3: 0.9962 - val_precision_3: 0.9963\n",
      "Epoch 49/60\n",
      "193/193 - 3s - loss: 0.0084 - accuracy: 0.9968 - recall_3: 0.9968 - precision_3: 0.9968 - val_loss: 0.0110 - val_accuracy: 0.9963 - val_recall_3: 0.9963 - val_precision_3: 0.9964\n",
      "Epoch 50/60\n",
      "193/193 - 4s - loss: 0.0083 - accuracy: 0.9969 - recall_3: 0.9969 - precision_3: 0.9969 - val_loss: 0.0109 - val_accuracy: 0.9963 - val_recall_3: 0.9963 - val_precision_3: 0.9963\n",
      "Epoch 51/60\n",
      "193/193 - 3s - loss: 0.0082 - accuracy: 0.9969 - recall_3: 0.9969 - precision_3: 0.9970 - val_loss: 0.0111 - val_accuracy: 0.9963 - val_recall_3: 0.9963 - val_precision_3: 0.9963\n",
      "Epoch 52/60\n",
      "193/193 - 3s - loss: 0.0080 - accuracy: 0.9970 - recall_3: 0.9970 - precision_3: 0.9970 - val_loss: 0.0111 - val_accuracy: 0.9964 - val_recall_3: 0.9964 - val_precision_3: 0.9964\n",
      "Epoch 53/60\n",
      "193/193 - 3s - loss: 0.0080 - accuracy: 0.9970 - recall_3: 0.9970 - precision_3: 0.9971 - val_loss: 0.0110 - val_accuracy: 0.9964 - val_recall_3: 0.9964 - val_precision_3: 0.9965\n",
      "Epoch 54/60\n",
      "193/193 - 3s - loss: 0.0078 - accuracy: 0.9971 - recall_3: 0.9970 - precision_3: 0.9971 - val_loss: 0.0110 - val_accuracy: 0.9963 - val_recall_3: 0.9963 - val_precision_3: 0.9963\n",
      "Epoch 55/60\n",
      "193/193 - 3s - loss: 0.0077 - accuracy: 0.9971 - recall_3: 0.9971 - precision_3: 0.9971 - val_loss: 0.0111 - val_accuracy: 0.9964 - val_recall_3: 0.9964 - val_precision_3: 0.9964\n",
      "Epoch 56/60\n",
      "193/193 - 3s - loss: 0.0076 - accuracy: 0.9971 - recall_3: 0.9971 - precision_3: 0.9971 - val_loss: 0.0115 - val_accuracy: 0.9963 - val_recall_3: 0.9963 - val_precision_3: 0.9963\n",
      "Epoch 57/60\n",
      "193/193 - 3s - loss: 0.0075 - accuracy: 0.9972 - recall_3: 0.9972 - precision_3: 0.9972 - val_loss: 0.0113 - val_accuracy: 0.9965 - val_recall_3: 0.9964 - val_precision_3: 0.9965\n",
      "Epoch 58/60\n",
      "193/193 - 3s - loss: 0.0074 - accuracy: 0.9972 - recall_3: 0.9972 - precision_3: 0.9972 - val_loss: 0.0113 - val_accuracy: 0.9965 - val_recall_3: 0.9964 - val_precision_3: 0.9965\n",
      "Epoch 59/60\n",
      "193/193 - 3s - loss: 0.0074 - accuracy: 0.9972 - recall_3: 0.9972 - precision_3: 0.9972 - val_loss: 0.0115 - val_accuracy: 0.9965 - val_recall_3: 0.9965 - val_precision_3: 0.9965\n",
      "Epoch 60/60\n",
      "193/193 - 3s - loss: 0.0073 - accuracy: 0.9973 - recall_3: 0.9973 - precision_3: 0.9973 - val_loss: 0.0113 - val_accuracy: 0.9965 - val_recall_3: 0.9965 - val_precision_3: 0.9965\n"
     ]
    }
   ],
   "source": [
    "# Training the model\n",
    "results_perword = training(X_train_perword, y_train_perword, model_bilstm_perword)"
   ]
  },
  {
   "cell_type": "markdown",
   "metadata": {
    "id": "8jwEu-tDr-FB"
   },
   "source": [
    "Train and Test scores"
   ]
  },
  {
   "cell_type": "code",
   "execution_count": 139,
   "metadata": {
    "colab": {
     "base_uri": "https://localhost:8080/"
    },
    "id": "XW91vC0vfLJo",
    "outputId": "22d21c57-5fdc-4226-b5ce-babaf6ec842b"
   },
   "outputs": [
    {
     "name": "stdout",
     "output_type": "stream",
     "text": [
      "1713/1713 - 9s - loss: 0.0075 - accuracy: 0.9973 - recall_3: 0.9973 - precision_3: 0.9974\n",
      "\n",
      "Train set metrics:\n",
      "Loss = 0.007506593130528927, Accuracy = 0.9973397850990295, Recall = 0.9973149299621582, Precision = 0.9973592758178711\n",
      "\n",
      "429/429 - 2s - loss: 0.0107 - accuracy: 0.9963 - recall_3: 0.9963 - precision_3: 0.9964\n",
      "\n",
      "Test set metrics:\n",
      "Loss = 0.010670101270079613, Accuracy = 0.9963473081588745, Recall = 0.9963240623474121, Precision = 0.9963637590408325\n"
     ]
    }
   ],
   "source": [
    "loss, acc, recall, precision = model_bilstm_perword.evaluate(X_train_perword, y_train_perword, verbose=2)\n",
    "print('\\nTrain set metrics:')\n",
    "print(\"Loss = {}, Accuracy = {}, Recall = {}, Precision = {}\\n\".format(loss, acc, recall, precision))\n",
    "\n",
    "loss, acc, recall, precision = model_bilstm_perword.evaluate(X_test_perword, y_test_perword, verbose=2)\n",
    "print('\\nTest set metrics:')\n",
    "print(\"Loss = {}, Accuracy = {}, Recall = {}, Precision = {}\".format(loss, acc, recall, precision))"
   ]
  },
  {
   "cell_type": "markdown",
   "metadata": {
    "id": "wcAhYhLPu_Im"
   },
   "source": [
    "Visualising the model accuracy and loss during training"
   ]
  },
  {
   "cell_type": "code",
   "execution_count": 140,
   "metadata": {
    "colab": {
     "base_uri": "https://localhost:8080/",
     "height": 312
    },
    "id": "M8z6wLb1fLpn",
    "outputId": "3bdc6f19-a5c8-4d0f-bde5-e2289385070b"
   },
   "outputs": [
    {
     "data": {
      "text/plain": [
       "<matplotlib.legend.Legend at 0x7fb4d25cb2e8>"
      ]
     },
     "execution_count": 140,
     "metadata": {
      "tags": []
     },
     "output_type": "execute_result"
    },
    {
     "data": {
      "image/png": "[encoded data removed]",
      "text/plain": [
       "<Figure size 432x288 with 1 Axes>"
      ]
     },
     "metadata": {
      "needs_background": "light",
      "tags": []
     },
     "output_type": "display_data"
    }
   ],
   "source": [
    "# visualising accuracy\n",
    "plt.plot(results_perword.history['accuracy'])\n",
    "plt.plot(results_perword.history['val_accuracy'])\n",
    "plt.title('model accuracy')\n",
    "plt.ylabel('accuracy')\n",
    "plt.xlabel('epoch')\n",
    "plt.legend(['train', 'val'], loc='lower left')"
   ]
  },
  {
   "cell_type": "code",
   "execution_count": 141,
   "metadata": {
    "colab": {
     "base_uri": "https://localhost:8080/",
     "height": 312
    },
    "id": "G_j2GmM4fO6z",
    "outputId": "eceab1be-4297-4c0b-9ae8-ba8e60d2b4f5"
   },
   "outputs": [
    {
     "data": {
      "text/plain": [
       "<matplotlib.legend.Legend at 0x7fb4d1dc9320>"
      ]
     },
     "execution_count": 141,
     "metadata": {
      "tags": []
     },
     "output_type": "execute_result"
    },
    {
     "data": {
      "image/png": "[encoded data removed]",
      "text/plain": [
       "<Figure size 432x288 with 1 Axes>"
      ]
     },
     "metadata": {
      "needs_background": "light",
      "tags": []
     },
     "output_type": "display_data"
    }
   ],
   "source": [
    "# visualising loss\n",
    "plt.plot(results_perword.history['loss'])\n",
    "plt.plot(results_perword.history['val_loss'])\n",
    "plt.title('model loss')\n",
    "plt.ylabel('loss')\n",
    "plt.xlabel('epoch')\n",
    "plt.legend(['train', 'val'], loc='upper right')"
   ]
  },
  {
   "cell_type": "markdown",
   "metadata": {
    "id": "Yj_i0QmUR4gz"
   },
   "source": [
    "##### Measuring model performance by computing the ratio of predicted Named Entities to total ground truth Named Entities"
   ]
  },
  {
   "cell_type": "code",
   "execution_count": 166,
   "metadata": {
    "colab": {
     "base_uri": "https://localhost:8080/"
    },
    "id": "DJQyJxTBCtUm",
    "outputId": "1b514b37-e2d1-4e25-8dea-e12c8f918d30"
   },
   "outputs": [
    {
     "name": "stdout",
     "output_type": "stream",
     "text": [
      "Train Accuracy: 73.94291754756871%\n",
      "Test Accuracy: 71.25813449023862%\n"
     ]
    }
   ],
   "source": [
    "# Computing Performance of the model\n",
    "\n",
    "# Accuracy of the model over the train set\n",
    "train_predictions = build_prediction_table(model_bilstm_perword, X_train_perword, y_train_perword, index_to_char, index_to_tag)\n",
    "train_predicted_NE, train_ground_truth_NE = output_predicted_named_entities(train_predictions)\n",
    "print(\"Train Accuracy: {}%\".format(len(train_predicted_NE)*100/len(train_ground_truth_NE)))\n",
    "\n",
    "# Accuracy of the model over the test set\n",
    "test_predictions = build_prediction_table(model_bilstm_perword, X_test_perword, y_test_perword, index_to_char, index_to_tag)\n",
    "test_predicted_NE, test_ground_truth_NE = output_predicted_named_entities(test_predictions)\n",
    "print(\"Test Accuracy: {}%\".format(len(test_predicted_NE)*100/len(test_ground_truth_NE)))"
   ]
  },
  {
   "cell_type": "markdown",
   "metadata": {
    "id": "EsKuEicJUru3"
   },
   "source": [
    "* The above accuracy shows that performance of this model that is based on the words as instances, performs much better on the given dataset than the sentence based model."
   ]
  }
 ],
 "metadata": {
  "accelerator": "GPU",
  "colab": {
   "collapsed_sections": [],
   "name": "NLP assign - I",
   "provenance": [],
   "toc_visible": true
  },
  "kernelspec": {
   "display_name": "Python 3",
   "language": "python",
   "name": "python3"
  },
  "language_info": {
   "codemirror_mode": {
    "name": "ipython",
    "version": 3
   },
   "file_extension": ".py",
   "mimetype": "text/x-python",
   "name": "python",
   "nbconvert_exporter": "python",
   "pygments_lexer": "ipython3",
   "version": "3.6.11"
  }
 },
 "nbformat": 4,
 "nbformat_minor": 1
}
